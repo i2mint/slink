{
 "cells": [
  {
   "cell_type": "markdown",
   "metadata": {
    "toc": true
   },
   "source": [
    "<h1>Table of Contents<span class=\"tocSkip\"></span></h1>\n",
    "<div class=\"toc\"><ul class=\"toc-item\"><li><span><a href=\"#Design-notes\" data-toc-modified-id=\"Design-notes-1\"><span class=\"toc-item-num\">1&nbsp;&nbsp;</span>Design notes</a></span><ul class=\"toc-item\"><li><span><a href=\"#Objective\" data-toc-modified-id=\"Objective-1.1\"><span class=\"toc-item-num\">1.1&nbsp;&nbsp;</span>Objective</a></span></li><li><span><a href=\"#Design\" data-toc-modified-id=\"Design-1.2\"><span class=\"toc-item-num\">1.2&nbsp;&nbsp;</span>Design</a></span></li><li><span><a href=\"#Examples-of-sequence-functions\" data-toc-modified-id=\"Examples-of-sequence-functions-1.3\"><span class=\"toc-item-num\">1.3&nbsp;&nbsp;</span>Examples of sequence functions</a></span></li></ul></li><li><span><a href=\"#Seed-functions\" data-toc-modified-id=\"Seed-functions-2\"><span class=\"toc-item-num\">2&nbsp;&nbsp;</span>Seed functions</a></span><ul class=\"toc-item\"><li><span><a href=\"#Seed-functions\" data-toc-modified-id=\"Seed-functions-2.1\"><span class=\"toc-item-num\">2.1&nbsp;&nbsp;</span>Seed functions</a></span></li></ul></li><li><span><a href=\"#sequence-functions\" data-toc-modified-id=\"sequence-functions-3\"><span class=\"toc-item-num\">3&nbsp;&nbsp;</span>sequence functions</a></span><ul class=\"toc-item\"><li><span><a href=\"#categorical-maps\" data-toc-modified-id=\"categorical-maps-3.1\"><span class=\"toc-item-num\">3.1&nbsp;&nbsp;</span>categorical maps</a></span></li><li><span><a href=\"#Numerical\" data-toc-modified-id=\"Numerical-3.2\"><span class=\"toc-item-num\">3.2&nbsp;&nbsp;</span>Numerical</a></span></li></ul></li><li><span><a href=\"#Scrap\" data-toc-modified-id=\"Scrap-4\"><span class=\"toc-item-num\">4&nbsp;&nbsp;</span>Scrap</a></span><ul class=\"toc-item\"><li><span><a href=\"#Currying\" data-toc-modified-id=\"Currying-4.1\"><span class=\"toc-item-num\">4.1&nbsp;&nbsp;</span>Currying</a></span></li><li><span><a href=\"#Some-dag-viz\" data-toc-modified-id=\"Some-dag-viz-4.2\"><span class=\"toc-item-num\">4.2&nbsp;&nbsp;</span>Some dag viz</a></span></li></ul></li></ul></div>"
   ]
  },
  {
   "cell_type": "code",
   "execution_count": null,
   "metadata": {},
   "outputs": [],
   "source": [
    "\n",
    "# frequently used builtins\n",
    "import os\n",
    "from collections import Counter, defaultdict\n",
    "\n",
    "# frequently used data pkgs\n",
    "import numpy as np\n",
    "import pandas as pd\n",
    "\t\t\t\n",
    "# careful import of matplotlib\n",
    "try:\n",
    "\timport matplotlib.pyplot as plt\n",
    "except ModuleNotFoundError as e:  # to catch ModuleNotFoundError: No module named '_tkinter'\n",
    "\timport matplotlib\n",
    "\tmatplotlib.use('agg')\n",
    "\timport matplotlib.pyplot as plt\n",
    "\n",
    "# some magic stuff\n",
    "%reload_ext autoreload\n",
    "%autoreload 2\n",
    "\n",
    "%matplotlib inline\n",
    "%config InlineBackend.figure_format='retina'"
   ]
  },
  {
   "cell_type": "code",
   "execution_count": null,
   "metadata": {},
   "outputs": [],
   "source": []
  },
  {
   "cell_type": "markdown",
   "metadata": {
    "ExecuteTime": {
     "end_time": "2021-08-12T10:17:01.503120Z",
     "start_time": "2021-08-12T10:17:01.455551Z"
    }
   },
   "source": [
    "# Design notes\n",
    "\n",
    "## Objective\n",
    "\n",
    "This package offers tools for generating sequences. Finite ones like lists and arrays, or infinite ones like streams. \n",
    "\n",
    "The items of the sequences can be anything and often one sequence produced will be used to produce another (see further design notes). \n",
    "The target (i.e. final) sequence items would be samples of a signal (like sound, image, or other data from some sensor source) or typical time-series. \n",
    "\n",
    "For starters, our main focus will be generating sound -- that is, servicing the [hum](https://github.com/otosense/hum) package. \n",
    "\n",
    "Our main tools will be taken from [creek](https://github.com/i2mint/creek) and possibly [lined]()\n",
    "\n",
    "\n",
    "## Design\n",
    "\n",
    "Our running examples will be taken from audio production. \n",
    "We'll use `wf` to denote a waveform object (usually a list or array of numbers -- a.k.a. samples or frames). \n",
    "\n",
    "To get a waveform, you specify some `params` (including, say, the kind, \n",
    "or the actual function that the params should be called with to produce the result), \n",
    "and you get a waveform `wf`.\n",
    "\n",
    "![image](https://user-images.githubusercontent.com/1906276/129167933-b1cdba31-0e8c-46b9-b789-c89732d06ce3.png)\n",
    "\n",
    "This `wf` could be a fixed-size object like an array, or could be a source of unbounded amounts of data, \n",
    "like a generator, a stream object, a or a `creek.InfiniteSeq` which gives you the array-like ability to slice (i.e. `wf[i:j]`). \n",
    "\n",
    "The purpose of `slink` is to provide tools to get from params to this `wf`, or what ever the target sequence maybe. \n",
    "The main means of doing so is through a chain of sequences each one being a function of the previous. \n",
    "This function could do things like...\n",
    "\n",
    "\n",
    "<img src=\"https://user-images.githubusercontent.com/1906276/129180811-c6f94159-8a9b-4f42-9f99-34607ade643d.png\" alt=\"drawing\" style=\"width:1200px\"/>\n",
    "\n",
    "<img src=\"https://user-images.githubusercontent.com/1906276/129182049-c6717da0-3251-4f1a-bf75-163c92db42da.png\" alt=\"drawing\" style=\"width:1200px\"/>\n",
    "\n",
    "\n",
    "```python\n",
    "a, b, c... -> wf_for(a), wf_for(b), wf_for(c), ...  # generate elements of the next sequence based on the items of the last\n",
    "wf_a, wf_b, wf_c... -> add_noise(wf_a), add_noise(wf_b), add_noise(wf_c), ... # transform the items of the last sequence\n",
    "-> concatinate(wf_a_with_noise, ...)  # aggregate these items\n",
    "-> chunk -> wf_chk_1, wf_chk_2, ...  # split these items\n",
    "```\n",
    "\n",
    "All but the last sequence functions above were all \n",
    "- `map` (applying the same function to each element of the input sequence) \n",
    "- `reduce` (aggregating all sequence items into one object -- though that object may be a sequence itself)\n",
    "\n",
    "But some functions can have more complex mechanisms such as inner-state and buffers. \n",
    "This is important to note, since the developer may be tempted to accommodate for sequence functions that operate on a window instead of a single item. \n",
    "But accommodating for this directly would complexify the interface.\n",
    "Instead, we propose to use a mechanism like `lined.BufferStats` to offer a window-input functionality with a single-item-at-a-time interface.\n",
    "\n",
    "## Examples of sequence functions\n",
    "\n",
    "For categoricals: Use the `__getitem__` of a mapping that relates each element of a finite set of seeds to a waveform, \n",
    "or parameters that will be used to produce the waveform:\n",
    "\n",
    "```python\n",
    "cat_map = {'a': [1,2,3], 'b': [4,5,6]}\n",
    "item_func_1 = cat_map.__getitem__\n",
    "# to make the sequence function from this item func, you can do:\n",
    "from lined import iterize\n",
    "seq_func_1 = iterize(item_func_1)\n",
    "```\n",
    "\n",
    "Could also use finite mappings like above for numericals by first using a function that will map to a categorical\n",
    "\n",
    "```python\n",
    "num_to_cat = lambda num: list(cat_map)[num % len(cat_map)]\n",
    "from lined import iterize, Line\n",
    "seq_func_2 = iterize(Line(num_to_cat, item_func_1))\n",
    "```\n",
    "\n",
    "`Line` composes `num_to_cat` and `item_func_1` and `iterize` makes the item-to-item function into a sequence-to-sequence function.\n",
    "\n"
   ]
  },
  {
   "cell_type": "code",
   "execution_count": null,
   "metadata": {},
   "outputs": [],
   "source": []
  },
  {
   "cell_type": "markdown",
   "metadata": {},
   "source": [
    "# Seed functions"
   ]
  },
  {
   "cell_type": "markdown",
   "metadata": {},
   "source": [
    "Seed functions are the functions that produce the first sequence of the pipeline of sequence transformations. \n",
    "\n",
    "They're not the outer most layer: The outer-most layer contains the whole pipeline, and has as arguments any parameters that the steps of the pipeline might need. \n",
    "\n",
    "A seed functions is called repeatedly to produce either an item at a time (`n=1`), a chunk (`n>1`), or an iterable (`n=0`) that may or may not be a finite one. "
   ]
  },
  {
   "cell_type": "markdown",
   "metadata": {},
   "source": [
    "## Seed functions"
   ]
  },
  {
   "cell_type": "code",
   "execution_count": 123,
   "metadata": {
    "ExecuteTime": {
     "end_time": "2021-08-12T14:29:38.516655Z",
     "start_time": "2021-08-12T14:29:38.484274Z"
    }
   },
   "outputs": [
    {
     "data": {
      "text/plain": [
       "[False, False, True, True]"
      ]
     },
     "execution_count": 123,
     "metadata": {},
     "output_type": "execute_result"
    }
   ],
   "source": [
    "import itertools\n",
    "from slink.seed_functions import RandomCategoricalGenerator\n",
    "\n",
    "r = RandomCategoricalGenerator()\n",
    "it = r(None)\n",
    "assert r() in r.categories # True or False\n",
    "assert r(n=1) in r.categories # same as r()\n",
    "result = r(n=3)\n",
    "assert isinstance(result, list)  # e.g. [False, True, False]\n",
    "r = RandomCategoricalGenerator(chunk_container=tuple)\n",
    "result = r(n=3)\n",
    "assert isinstance(result, tuple)  # e.g. (False, True, False)\n",
    "list(itertools.islice(it, 0, 4)) # e.g. [False, False, False, True]"
   ]
  },
  {
   "cell_type": "markdown",
   "metadata": {},
   "source": [
    "# sequence functions"
   ]
  },
  {
   "cell_type": "code",
   "execution_count": null,
   "metadata": {
    "ExecuteTime": {
     "end_time": "2021-08-12T14:25:08.202224Z",
     "start_time": "2021-08-12T14:25:08.172311Z"
    }
   },
   "outputs": [],
   "source": []
  },
  {
   "cell_type": "code",
   "execution_count": 127,
   "metadata": {
    "ExecuteTime": {
     "end_time": "2021-08-12T14:34:18.314785Z",
     "start_time": "2021-08-12T14:34:18.282428Z"
    }
   },
   "outputs": [],
   "source": [
    "import itertools\n",
    "from functools import partial\n",
    "\n",
    "import numpy as np\n",
    "from lined import iterize, Line, LineParametrized"
   ]
  },
  {
   "cell_type": "markdown",
   "metadata": {},
   "source": [
    "## categorical maps"
   ]
  },
  {
   "cell_type": "code",
   "execution_count": 122,
   "metadata": {
    "ExecuteTime": {
     "end_time": "2021-08-12T14:29:30.030173Z",
     "start_time": "2021-08-12T14:29:30.001729Z"
    }
   },
   "outputs": [],
   "source": [
    "cat_map = {'a': [1,2,3], 'b': [4,5,6]}\n",
    "get_list_for_cat = cat_map.__getitem__\n",
    "\n",
    "# to make the sequence function from this item func, you can do:\n",
    "iterized_get_list_for_cat = iterize(get_list_for_cat)\n",
    "assert list(iterized_get_list_for_cat('abaa')) == [[1, 2, 3], [4, 5, 6], [1, 2, 3], [1, 2, 3]]"
   ]
  },
  {
   "cell_type": "code",
   "execution_count": 146,
   "metadata": {
    "ExecuteTime": {
     "end_time": "2021-08-12T14:38:36.150002Z",
     "start_time": "2021-08-12T14:38:36.119997Z"
    }
   },
   "outputs": [
    {
     "data": {
      "text/plain": [
       "[[4, 5, 6], [1, 2, 3], [1, 2, 3], [4, 5, 6], [4, 5, 6]]"
      ]
     },
     "execution_count": 146,
     "metadata": {},
     "output_type": "execute_result"
    }
   ],
   "source": [
    "def get_list_for_cat(category):\n",
    "    return cat_map[category]\n",
    "\n",
    "seed_gen = RandomCategoricalGenerator(categories='ab')\n",
    "\n",
    "g = Line(\n",
    "    seed_gen,\n",
    "    iterize(get_list_for_cat),\n",
    "    list,\n",
    "    lambda x: x\n",
    ")\n",
    "g(n=5)"
   ]
  },
  {
   "cell_type": "code",
   "execution_count": 149,
   "metadata": {
    "ExecuteTime": {
     "end_time": "2021-08-12T14:42:02.949175Z",
     "start_time": "2021-08-12T14:42:02.913154Z"
    }
   },
   "outputs": [
    {
     "data": {
      "text/plain": [
       "[[4, 5, 5], [9, 10], [5, 4, 4], [4, 5, 4]]"
      ]
     },
     "execution_count": 149,
     "metadata": {},
     "output_type": "execute_result"
    }
   ],
   "source": [
    "cat_2_parms_map = {\n",
    "    'a': dict(loc=5, scale=0.5, size=3),\n",
    "    'b': dict(loc=10, scale=0.3, size=2),\n",
    "}\n",
    "get_params_for_cat = cat_2_parms_map.__getitem__\n",
    "call_normal_rand_on_params = lambda params: np.random.normal(**params)\n",
    "\n",
    "_cat_based_chunk_gen = Line(\n",
    "    get_params_for_cat,  # get some params for a category\n",
    "    call_normal_rand_on_params,  # draw from a normal distribution with those params\n",
    "    iterize(int),  # cast the result to an int\n",
    "    list  # make the arrays into lists (because it's nicer for display)\n",
    ")\n",
    "cat_based_chunk_gen = iterize(_cat_based_chunk_gen)\n",
    "list(cat_based_chunk_gen('abaa'))"
   ]
  },
  {
   "cell_type": "code",
   "execution_count": 86,
   "metadata": {
    "ExecuteTime": {
     "end_time": "2021-08-12T12:45:25.366230Z",
     "start_time": "2021-08-12T12:45:25.342709Z"
    }
   },
   "outputs": [],
   "source": [
    "#_cat_based_chunk_gen.dot_digraph()  # to make that work, need to make get_params_for_cat a function with signature"
   ]
  },
  {
   "cell_type": "code",
   "execution_count": 154,
   "metadata": {
    "ExecuteTime": {
     "end_time": "2021-08-12T14:43:54.471527Z",
     "start_time": "2021-08-12T14:43:54.439135Z"
    }
   },
   "outputs": [
    {
     "data": {
      "text/plain": [
       "[[4, 5, 4], [9, 10], [5, 5, 4], [5, 5, 5]]"
      ]
     },
     "execution_count": 154,
     "metadata": {},
     "output_type": "execute_result"
    }
   ],
   "source": [
    "cat_2_parms_map = {\n",
    "    'a': dict(loc=5, scale=0.5, size=3),\n",
    "    'b': dict(loc=10, scale=0.3, size=2),\n",
    "}\n",
    "\n",
    "def get_params_for_cat(category):\n",
    "    return cat_2_parms_map[category]\n",
    "\n",
    "def call_normal_rand_on_params(params):\n",
    "    return np.random.normal(**params)\n",
    "\n",
    "\n",
    "_cat_based_chunk_gen = Line(\n",
    "    get_params_for_cat,  # get some params for a category\n",
    "    call_normal_rand_on_params,  # draw from a normal distribution with those params\n",
    "    iterize(int),  # cast the result to an int\n",
    "    list  # make the arrays into lists (because it's nicer for display)\n",
    ")\n",
    "cat_based_chunk_gen = iterize(_cat_based_chunk_gen)\n",
    "list(cat_based_chunk_gen('abaa'))"
   ]
  },
  {
   "cell_type": "code",
   "execution_count": 155,
   "metadata": {
    "ExecuteTime": {
     "end_time": "2021-08-12T14:43:56.261723Z",
     "start_time": "2021-08-12T14:43:55.865997Z"
    }
   },
   "outputs": [
    {
     "data": {
      "image/svg+xml": [
       "<?xml version=\"1.0\" encoding=\"UTF-8\" standalone=\"no\"?>\n",
       "<!DOCTYPE svg PUBLIC \"-//W3C//DTD SVG 1.1//EN\"\n",
       " \"http://www.w3.org/Graphics/SVG/1.1/DTD/svg11.dtd\">\n",
       "<!-- Generated by graphviz version 2.48.0 (20210717.1556)\n",
       " -->\n",
       "<!-- Pages: 1 -->\n",
       "<svg width=\"637pt\" height=\"44pt\"\n",
       " viewBox=\"0.00 0.00 637.00 44.00\" xmlns=\"http://www.w3.org/2000/svg\" xmlns:xlink=\"http://www.w3.org/1999/xlink\">\n",
       "<g id=\"graph0\" class=\"graph\" transform=\"scale(1 1) rotate(0) translate(4 40)\">\n",
       "<polygon fill=\"white\" stroke=\"transparent\" points=\"-4,4 -4,-40 633,-40 633,4 -4,4\"/>\n",
       "<!-- category -->\n",
       "<g id=\"node1\" class=\"node\">\n",
       "<title>category</title>\n",
       "<text text-anchor=\"middle\" x=\"32.5\" y=\"-14.3\" font-family=\"Times,serif\" font-size=\"14.00\">category</text>\n",
       "</g>\n",
       "<!-- get_params_for_cat -->\n",
       "<g id=\"node2\" class=\"node\">\n",
       "<title>get_params_for_cat</title>\n",
       "<polygon fill=\"none\" stroke=\"black\" points=\"229,-36 101,-36 101,0 229,0 229,-36\"/>\n",
       "<text text-anchor=\"middle\" x=\"165\" y=\"-14.3\" font-family=\"Times,serif\" font-size=\"14.00\">get_params_for_cat</text>\n",
       "</g>\n",
       "<!-- category&#45;&gt;get_params_for_cat -->\n",
       "<g id=\"edge1\" class=\"edge\">\n",
       "<title>category&#45;&gt;get_params_for_cat</title>\n",
       "<path fill=\"none\" stroke=\"black\" d=\"M65.09,-18C72.98,-18 81.78,-18 90.78,-18\"/>\n",
       "<polygon fill=\"black\" stroke=\"black\" points=\"91,-21.5 101,-18 91,-14.5 91,-21.5\"/>\n",
       "</g>\n",
       "<!-- call_normal_rand_on_params -->\n",
       "<g id=\"node3\" class=\"node\">\n",
       "<title>call_normal_rand_on_params</title>\n",
       "<polygon fill=\"none\" stroke=\"black\" points=\"449,-36 265,-36 265,0 449,0 449,-36\"/>\n",
       "<text text-anchor=\"middle\" x=\"357\" y=\"-14.3\" font-family=\"Times,serif\" font-size=\"14.00\">call_normal_rand_on_params</text>\n",
       "</g>\n",
       "<!-- get_params_for_cat&#45;&gt;call_normal_rand_on_params -->\n",
       "<g id=\"edge2\" class=\"edge\">\n",
       "<title>get_params_for_cat&#45;&gt;call_normal_rand_on_params</title>\n",
       "<path fill=\"none\" stroke=\"black\" d=\"M229,-18C237.23,-18 245.83,-18 254.49,-18\"/>\n",
       "<polygon fill=\"black\" stroke=\"black\" points=\"254.68,-21.5 264.68,-18 254.68,-14.5 254.68,-21.5\"/>\n",
       "</g>\n",
       "<!-- int -->\n",
       "<g id=\"node4\" class=\"node\">\n",
       "<title>int</title>\n",
       "<polygon fill=\"none\" stroke=\"black\" points=\"539,-36 485,-36 485,0 539,0 539,-36\"/>\n",
       "<text text-anchor=\"middle\" x=\"512\" y=\"-14.3\" font-family=\"Times,serif\" font-size=\"14.00\">int</text>\n",
       "</g>\n",
       "<!-- call_normal_rand_on_params&#45;&gt;int -->\n",
       "<g id=\"edge3\" class=\"edge\">\n",
       "<title>call_normal_rand_on_params&#45;&gt;int</title>\n",
       "<path fill=\"none\" stroke=\"black\" d=\"M449.21,-18C458.19,-18 466.88,-18 474.77,-18\"/>\n",
       "<polygon fill=\"black\" stroke=\"black\" points=\"474.99,-21.5 484.99,-18 474.99,-14.5 474.99,-21.5\"/>\n",
       "</g>\n",
       "<!-- list -->\n",
       "<g id=\"node5\" class=\"node\">\n",
       "<title>list</title>\n",
       "<polygon fill=\"none\" stroke=\"black\" points=\"629,-36 575,-36 575,0 629,0 629,-36\"/>\n",
       "<text text-anchor=\"middle\" x=\"602\" y=\"-14.3\" font-family=\"Times,serif\" font-size=\"14.00\">list</text>\n",
       "</g>\n",
       "<!-- int&#45;&gt;list -->\n",
       "<g id=\"edge4\" class=\"edge\">\n",
       "<title>int&#45;&gt;list</title>\n",
       "<path fill=\"none\" stroke=\"black\" d=\"M539.4,-18C547.39,-18 556.31,-18 564.82,-18\"/>\n",
       "<polygon fill=\"black\" stroke=\"black\" points=\"564.92,-21.5 574.92,-18 564.92,-14.5 564.92,-21.5\"/>\n",
       "</g>\n",
       "</g>\n",
       "</svg>\n"
      ],
      "text/plain": [
       "<graphviz.dot.Digraph at 0x129584520>"
      ]
     },
     "execution_count": 155,
     "metadata": {},
     "output_type": "execute_result"
    }
   ],
   "source": [
    "_cat_based_chunk_gen.dot_digraph()"
   ]
  },
  {
   "cell_type": "markdown",
   "metadata": {
    "ExecuteTime": {
     "end_time": "2021-08-12T14:44:22.492276Z",
     "start_time": "2021-08-12T14:44:22.464688Z"
    }
   },
   "source": [
    "## Numerical"
   ]
  },
  {
   "cell_type": "code",
   "execution_count": 162,
   "metadata": {
    "ExecuteTime": {
     "end_time": "2021-08-12T14:49:29.448745Z",
     "start_time": "2021-08-12T14:49:29.421199Z"
    }
   },
   "outputs": [
    {
     "data": {
      "text/plain": [
       "array([1.44444444, 2.        , 2.55555556])"
      ]
     },
     "execution_count": 162,
     "metadata": {},
     "output_type": "execute_result"
    }
   ],
   "source": [
    "# TODO: Replace norm_offset and norm_scale by a num normalizing function\n",
    "# TODO: Give control over spectr normalization\n",
    "def get_spectr_from_number(num, spectr, norm_offset, norm_scale):\n",
    "    \"\"\"\n",
    "    This function is meant to be curried so that only num is left.\n",
    "    - spectr is meant to be fixed for a given dimension of data (where the nums are coming from)\n",
    "    - \n",
    "    \"\"\"\n",
    "    spectr = np.array(spectr)\n",
    "    normalized_num = (num - norm_offset) / norm_scale\n",
    "    original_spectr_sum = sum(spectr)\n",
    "    spectr = spectr + normalized_num  # shift spectr by normalized_num\n",
    "    factor_to_conserve_sum = original_spectr_sum / sum(spectr)\n",
    "    return spectr * factor_to_conserve_sum\n",
    "    \n",
    "get_params_from_number(10, [1,2,3], 2, 5)"
   ]
  },
  {
   "cell_type": "code",
   "execution_count": 181,
   "metadata": {
    "ExecuteTime": {
     "end_time": "2021-08-12T14:55:25.945912Z",
     "start_time": "2021-08-12T14:55:25.910596Z"
    }
   },
   "outputs": [
    {
     "data": {
      "text/plain": [
       "array([1350.        ,  229.66588026])"
      ]
     },
     "execution_count": 181,
     "metadata": {},
     "output_type": "execute_result"
    }
   ],
   "source": [
    "_num_based_wf_gen = LineParametrized(\n",
    "    ('get_spectr', partial(get_spectr_from_number, spectr=[400, 900, 50], norm_offset=2, norm_scale=10)), \n",
    "    ('wf_to_spectr', np.fft.rfft),\n",
    "    ('normalize_rfft', lambda rfft_wf: np.abs(rfft_wf)),\n",
    ")\n",
    "\n",
    "_num_based_wf_gen(10000)"
   ]
  },
  {
   "cell_type": "code",
   "execution_count": 182,
   "metadata": {
    "ExecuteTime": {
     "end_time": "2021-08-12T14:57:04.689135Z",
     "start_time": "2021-08-12T14:57:04.299529Z"
    }
   },
   "outputs": [
    {
     "data": {
      "image/svg+xml": [
       "<?xml version=\"1.0\" encoding=\"UTF-8\" standalone=\"no\"?>\n",
       "<!DOCTYPE svg PUBLIC \"-//W3C//DTD SVG 1.1//EN\"\n",
       " \"http://www.w3.org/Graphics/SVG/1.1/DTD/svg11.dtd\">\n",
       "<!-- Generated by graphviz version 2.48.0 (20210717.1556)\n",
       " -->\n",
       "<!-- Pages: 1 -->\n",
       "<svg width=\"609pt\" height=\"287pt\"\n",
       " viewBox=\"0.00 0.00 609.00 287.00\" xmlns=\"http://www.w3.org/2000/svg\" xmlns:xlink=\"http://www.w3.org/1999/xlink\">\n",
       "<g id=\"graph0\" class=\"graph\" transform=\"scale(1 1) rotate(0) translate(4 283)\">\n",
       "<polygon fill=\"white\" stroke=\"transparent\" points=\"-4,4 -4,-283 605,-283 605,4 -4,4\"/>\n",
       "<!-- num -->\n",
       "<g id=\"node1\" class=\"node\">\n",
       "<title>num</title>\n",
       "<text text-anchor=\"middle\" x=\"46.5\" y=\"-257.3\" font-family=\"Times,serif\" font-size=\"14.00\">num</text>\n",
       "</g>\n",
       "<!-- get_spectr -->\n",
       "<g id=\"node2\" class=\"node\">\n",
       "<title>get_spectr</title>\n",
       "<polygon fill=\"none\" stroke=\"black\" points=\"204,-198 130,-198 130,-162 204,-162 204,-198\"/>\n",
       "<text text-anchor=\"middle\" x=\"167\" y=\"-176.3\" font-family=\"Times,serif\" font-size=\"14.00\">get_spectr</text>\n",
       "</g>\n",
       "<!-- num&#45;&gt;get_spectr -->\n",
       "<g id=\"edge1\" class=\"edge\">\n",
       "<title>num&#45;&gt;get_spectr</title>\n",
       "<path fill=\"none\" stroke=\"black\" d=\"M73.77,-246.03C80.14,-242.23 86.88,-238.07 93,-234 107,-224.7 122.01,-213.78 134.75,-204.2\"/>\n",
       "<polygon fill=\"black\" stroke=\"black\" points=\"136.9,-206.96 142.76,-198.13 132.68,-201.38 136.9,-206.96\"/>\n",
       "</g>\n",
       "<!-- wf_to_spectr -->\n",
       "<g id=\"node6\" class=\"node\">\n",
       "<title>wf_to_spectr</title>\n",
       "<polygon fill=\"none\" stroke=\"black\" points=\"337,-117 247,-117 247,-81 337,-81 337,-117\"/>\n",
       "<text text-anchor=\"middle\" x=\"292\" y=\"-95.3\" font-family=\"Times,serif\" font-size=\"14.00\">wf_to_spectr</text>\n",
       "</g>\n",
       "<!-- get_spectr&#45;&gt;wf_to_spectr -->\n",
       "<g id=\"edge5\" class=\"edge\">\n",
       "<title>get_spectr&#45;&gt;wf_to_spectr</title>\n",
       "<path fill=\"none\" stroke=\"black\" d=\"M195.6,-161.82C213.17,-150.25 236.1,-135.15 255.08,-122.65\"/>\n",
       "<polygon fill=\"black\" stroke=\"black\" points=\"257.06,-125.54 263.49,-117.12 253.21,-119.69 257.06,-125.54\"/>\n",
       "<text text-anchor=\"middle\" x=\"225.5\" y=\"-147.8\" font-family=\"Times,serif\" font-size=\"14.00\">a</text>\n",
       "</g>\n",
       "<!-- spectr -->\n",
       "<g id=\"node3\" class=\"node\">\n",
       "<title>spectr</title>\n",
       "<text text-anchor=\"middle\" x=\"46.5\" y=\"-203.3\" font-family=\"Times,serif\" font-size=\"14.00\">spectr=</text>\n",
       "</g>\n",
       "<!-- spectr&#45;&gt;get_spectr -->\n",
       "<g id=\"edge2\" class=\"edge\">\n",
       "<title>spectr&#45;&gt;get_spectr</title>\n",
       "<path fill=\"none\" stroke=\"black\" d=\"M75.58,-200.6C88.71,-197.61 104.68,-193.97 119.53,-190.59\"/>\n",
       "<polygon fill=\"black\" stroke=\"black\" points=\"120.61,-193.93 129.59,-188.3 119.06,-187.11 120.61,-193.93\"/>\n",
       "</g>\n",
       "<!-- norm_offset -->\n",
       "<g id=\"node4\" class=\"node\">\n",
       "<title>norm_offset</title>\n",
       "<text text-anchor=\"middle\" x=\"46.5\" y=\"-149.3\" font-family=\"Times,serif\" font-size=\"14.00\">norm_offset=</text>\n",
       "</g>\n",
       "<!-- norm_offset&#45;&gt;get_spectr -->\n",
       "<g id=\"edge3\" class=\"edge\">\n",
       "<title>norm_offset&#45;&gt;get_spectr</title>\n",
       "<path fill=\"none\" stroke=\"black\" d=\"M93.32,-163.44C102.02,-165.42 111.14,-167.5 119.85,-169.49\"/>\n",
       "<polygon fill=\"black\" stroke=\"black\" points=\"119.33,-172.96 129.86,-171.76 120.88,-166.13 119.33,-172.96\"/>\n",
       "</g>\n",
       "<!-- norm_scale -->\n",
       "<g id=\"node5\" class=\"node\">\n",
       "<title>norm_scale</title>\n",
       "<text text-anchor=\"middle\" x=\"46.5\" y=\"-95.3\" font-family=\"Times,serif\" font-size=\"14.00\">norm_scale=</text>\n",
       "</g>\n",
       "<!-- norm_scale&#45;&gt;get_spectr -->\n",
       "<g id=\"edge4\" class=\"edge\">\n",
       "<title>norm_scale&#45;&gt;get_spectr</title>\n",
       "<path fill=\"none\" stroke=\"black\" d=\"M79.09,-117.18C83.8,-120.05 88.56,-123.05 93,-126 97.26,-128.83 115.96,-142.67 133.36,-155.62\"/>\n",
       "<polygon fill=\"black\" stroke=\"black\" points=\"131.62,-158.69 141.73,-161.86 135.81,-153.08 131.62,-158.69\"/>\n",
       "</g>\n",
       "<!-- normalize_rfft -->\n",
       "<g id=\"node10\" class=\"node\">\n",
       "<title>normalize_rfft</title>\n",
       "<polygon fill=\"none\" stroke=\"black\" points=\"510,-117 413,-117 413,-81 510,-81 510,-117\"/>\n",
       "<text text-anchor=\"middle\" x=\"461.5\" y=\"-95.3\" font-family=\"Times,serif\" font-size=\"14.00\">normalize_rfft</text>\n",
       "</g>\n",
       "<!-- wf_to_spectr&#45;&gt;normalize_rfft -->\n",
       "<g id=\"edge9\" class=\"edge\">\n",
       "<title>wf_to_spectr&#45;&gt;normalize_rfft</title>\n",
       "<path fill=\"none\" stroke=\"black\" d=\"M337.01,-99C357.17,-99 381.34,-99 402.93,-99\"/>\n",
       "<polygon fill=\"black\" stroke=\"black\" points=\"402.97,-102.5 412.97,-99 402.97,-95.5 402.97,-102.5\"/>\n",
       "<text text-anchor=\"middle\" x=\"375\" y=\"-102.8\" font-family=\"Times,serif\" font-size=\"14.00\">rfft_wf</text>\n",
       "</g>\n",
       "<!-- n -->\n",
       "<g id=\"node7\" class=\"node\">\n",
       "<title>n</title>\n",
       "<text text-anchor=\"middle\" x=\"167\" y=\"-122.3\" font-family=\"Times,serif\" font-size=\"14.00\">n=</text>\n",
       "</g>\n",
       "<!-- n&#45;&gt;wf_to_spectr -->\n",
       "<g id=\"edge6\" class=\"edge\">\n",
       "<title>n&#45;&gt;wf_to_spectr</title>\n",
       "<path fill=\"none\" stroke=\"black\" d=\"M194.09,-120.27C206.46,-117.56 221.74,-114.2 236.48,-110.97\"/>\n",
       "<polygon fill=\"black\" stroke=\"black\" points=\"237.53,-114.32 246.55,-108.76 236.03,-107.48 237.53,-114.32\"/>\n",
       "</g>\n",
       "<!-- axis -->\n",
       "<g id=\"node8\" class=\"node\">\n",
       "<title>axis</title>\n",
       "<text text-anchor=\"middle\" x=\"167\" y=\"-68.3\" font-family=\"Times,serif\" font-size=\"14.00\">axis=</text>\n",
       "</g>\n",
       "<!-- axis&#45;&gt;wf_to_spectr -->\n",
       "<g id=\"edge7\" class=\"edge\">\n",
       "<title>axis&#45;&gt;wf_to_spectr</title>\n",
       "<path fill=\"none\" stroke=\"black\" d=\"M194.09,-77.73C206.46,-80.44 221.74,-83.8 236.48,-87.03\"/>\n",
       "<polygon fill=\"black\" stroke=\"black\" points=\"236.03,-90.52 246.55,-89.24 237.53,-83.68 236.03,-90.52\"/>\n",
       "</g>\n",
       "<!-- norm -->\n",
       "<g id=\"node9\" class=\"node\">\n",
       "<title>norm</title>\n",
       "<text text-anchor=\"middle\" x=\"167\" y=\"-14.3\" font-family=\"Times,serif\" font-size=\"14.00\">norm=</text>\n",
       "</g>\n",
       "<!-- norm&#45;&gt;wf_to_spectr -->\n",
       "<g id=\"edge8\" class=\"edge\">\n",
       "<title>norm&#45;&gt;wf_to_spectr</title>\n",
       "<path fill=\"none\" stroke=\"black\" d=\"M194.09,-35.18C211.7,-46.78 235.19,-62.25 254.63,-75.05\"/>\n",
       "<polygon fill=\"black\" stroke=\"black\" points=\"252.97,-78.14 263.24,-80.72 256.82,-72.3 252.97,-78.14\"/>\n",
       "</g>\n",
       "<!-- output -->\n",
       "<g id=\"node11\" class=\"node\">\n",
       "<title>output</title>\n",
       "<text text-anchor=\"middle\" x=\"574\" y=\"-95.3\" font-family=\"Times,serif\" font-size=\"14.00\">output</text>\n",
       "</g>\n",
       "<!-- normalize_rfft&#45;&gt;output -->\n",
       "<g id=\"edge10\" class=\"edge\">\n",
       "<title>normalize_rfft&#45;&gt;output</title>\n",
       "<path fill=\"none\" stroke=\"black\" d=\"M510,-99C518.99,-99 528.25,-99 536.81,-99\"/>\n",
       "<polygon fill=\"black\" stroke=\"black\" points=\"536.85,-102.5 546.85,-99 536.85,-95.5 536.85,-102.5\"/>\n",
       "</g>\n",
       "</g>\n",
       "</svg>\n"
      ],
      "text/plain": [
       "<graphviz.dot.Digraph at 0x129457640>"
      ]
     },
     "execution_count": 182,
     "metadata": {},
     "output_type": "execute_result"
    }
   ],
   "source": [
    "_num_based_wf_gen.dot_digraph()"
   ]
  },
  {
   "cell_type": "code",
   "execution_count": null,
   "metadata": {
    "ExecuteTime": {
     "end_time": "2021-08-12T12:50:37.375821Z",
     "start_time": "2021-08-12T12:50:37.347898Z"
    }
   },
   "outputs": [],
   "source": []
  },
  {
   "cell_type": "code",
   "execution_count": null,
   "metadata": {},
   "outputs": [],
   "source": []
  },
  {
   "cell_type": "code",
   "execution_count": null,
   "metadata": {},
   "outputs": [],
   "source": []
  },
  {
   "cell_type": "code",
   "execution_count": null,
   "metadata": {},
   "outputs": [],
   "source": []
  },
  {
   "cell_type": "markdown",
   "metadata": {},
   "source": [
    "# Scrap"
   ]
  },
  {
   "cell_type": "markdown",
   "metadata": {},
   "source": [
    "## Currying"
   ]
  },
  {
   "cell_type": "code",
   "execution_count": 59,
   "metadata": {
    "ExecuteTime": {
     "end_time": "2021-08-12T12:17:18.207493Z",
     "start_time": "2021-08-12T12:17:18.177100Z"
    }
   },
   "outputs": [],
   "source": [
    "from functools import partial, wraps\n",
    "\n",
    "class Curryer:\n",
    "    def __init__(self, func):\n",
    "        self.func = func\n",
    "        try:\n",
    "            wraps(func)(self)  # TODO: copy all attrs, or just signature, using functools.update_wrapper?\n",
    "        except:\n",
    "            pass\n",
    "\n",
    "    def __call__(self, *args, **kwargs):\n",
    "        return partial(self.func, *args, **kwargs)\n",
    "    \n",
    "import random\n",
    "randint_curryer = Curryer(random.randint)\n",
    "\n",
    "# What you do with it is this (what you do with partial, but with the function fixed)\n",
    "get_randint = randint_curryer(2, 4)\n",
    "assert get_randint() in {2, 3, 4}\n",
    "\n",
    "# But the real point of using Curryer is that the curryer has the same docs and signature as the function \n",
    "# that is being curried, so it's easier to choose the arguments you're binding\n",
    "from inspect import signature\n",
    "assert signature(randint_curryer) == signature(random.randint)\n",
    "assert randint_curryer.__doc__ == random.randint.__doc__\n",
    "\n",
    "import pandas as pd\n",
    "data_frame_curryer = Curryer(pd.DataFrame)\n",
    "\n",
    "df_maker = data_frame_curryer(columns=['earth', 'and', 'fire'])\n",
    "df_maker([(1, 2, 3), (4, 5, 6)])\n",
    "\n",
    "from inspect import signature\n",
    "assert signature(data_frame_curryer) == signature(pd.DataFrame)\n",
    "assert data_frame_curryer.__doc__ == pd.DataFrame.__doc__"
   ]
  },
  {
   "cell_type": "markdown",
   "metadata": {},
   "source": [
    "## Some dag viz"
   ]
  },
  {
   "cell_type": "code",
   "execution_count": 14,
   "metadata": {
    "ExecuteTime": {
     "end_time": "2021-08-12T10:29:09.237296Z",
     "start_time": "2021-08-12T10:29:08.939195Z"
    }
   },
   "outputs": [
    {
     "data": {
      "image/svg+xml": [
       "<?xml version=\"1.0\" encoding=\"UTF-8\" standalone=\"no\"?>\n",
       "<!DOCTYPE svg PUBLIC \"-//W3C//DTD SVG 1.1//EN\"\n",
       " \"http://www.w3.org/Graphics/SVG/1.1/DTD/svg11.dtd\">\n",
       "<!-- Generated by graphviz version 2.48.0 (20210717.1556)\n",
       " -->\n",
       "<!-- Pages: 1 -->\n",
       "<svg width=\"772pt\" height=\"44pt\"\n",
       " viewBox=\"0.00 0.00 772.00 44.00\" xmlns=\"http://www.w3.org/2000/svg\" xmlns:xlink=\"http://www.w3.org/1999/xlink\">\n",
       "<g id=\"graph0\" class=\"graph\" transform=\"scale(1 1) rotate(0) translate(4 40)\">\n",
       "<polygon fill=\"white\" stroke=\"transparent\" points=\"-4,4 -4,-40 768,-40 768,4 -4,4\"/>\n",
       "<!-- categories -->\n",
       "<g id=\"node1\" class=\"node\">\n",
       "<title>categories</title>\n",
       "<text text-anchor=\"middle\" x=\"27\" y=\"-14.3\" font-family=\"Times,serif\" font-size=\"14.00\">a, b...</text>\n",
       "</g>\n",
       "<!-- wfs_for_each_category -->\n",
       "<g id=\"node2\" class=\"node\">\n",
       "<title>wfs_for_each_category</title>\n",
       "<text text-anchor=\"middle\" x=\"161\" y=\"-14.3\" font-family=\"Times,serif\" font-size=\"14.00\">wf_for(a), wf_for(b)...</text>\n",
       "</g>\n",
       "<!-- categories&#45;&gt;wfs_for_each_category -->\n",
       "<g id=\"edge1\" class=\"edge\">\n",
       "<title>categories&#45;&gt;wfs_for_each_category</title>\n",
       "<path fill=\"none\" stroke=\"black\" d=\"M54.08,-18C61.75,-18 70.57,-18 79.78,-18\"/>\n",
       "<polygon fill=\"black\" stroke=\"black\" points=\"79.89,-21.5 89.89,-18 79.89,-14.5 79.89,-21.5\"/>\n",
       "</g>\n",
       "<!-- transformed_wf_for_each_category -->\n",
       "<g id=\"node3\" class=\"node\">\n",
       "<title>transformed_wf_for_each_category</title>\n",
       "<text text-anchor=\"middle\" x=\"382\" y=\"-14.3\" font-family=\"Times,serif\" font-size=\"14.00\">wf_a_with_noise, wf_b_with_noise...</text>\n",
       "</g>\n",
       "<!-- wfs_for_each_category&#45;&gt;transformed_wf_for_each_category -->\n",
       "<g id=\"edge2\" class=\"edge\">\n",
       "<title>wfs_for_each_category&#45;&gt;transformed_wf_for_each_category</title>\n",
       "<path fill=\"none\" stroke=\"black\" d=\"M232.2,-18C240.38,-18 248.9,-18 257.54,-18\"/>\n",
       "<polygon fill=\"black\" stroke=\"black\" points=\"257.72,-21.5 267.72,-18 257.72,-14.5 257.72,-21.5\"/>\n",
       "</g>\n",
       "<!-- concatinate -->\n",
       "<g id=\"node4\" class=\"node\">\n",
       "<title>concatinate</title>\n",
       "<text text-anchor=\"middle\" x=\"568.5\" y=\"-14.3\" font-family=\"Times,serif\" font-size=\"14.00\">waveform</text>\n",
       "</g>\n",
       "<!-- transformed_wf_for_each_category&#45;&gt;concatinate -->\n",
       "<g id=\"edge3\" class=\"edge\">\n",
       "<title>transformed_wf_for_each_category&#45;&gt;concatinate</title>\n",
       "<path fill=\"none\" stroke=\"black\" d=\"M496.17,-18C505.09,-18 513.73,-18 521.74,-18\"/>\n",
       "<polygon fill=\"black\" stroke=\"black\" points=\"521.88,-21.5 531.88,-18 521.88,-14.5 521.88,-21.5\"/>\n",
       "</g>\n",
       "<!-- chunk -->\n",
       "<g id=\"node5\" class=\"node\">\n",
       "<title>chunk</title>\n",
       "<text text-anchor=\"middle\" x=\"702.5\" y=\"-14.3\" font-family=\"Times,serif\" font-size=\"14.00\">chk1, chk2, chk3...</text>\n",
       "</g>\n",
       "<!-- concatinate&#45;&gt;chunk -->\n",
       "<g id=\"edge4\" class=\"edge\">\n",
       "<title>concatinate&#45;&gt;chunk</title>\n",
       "<path fill=\"none\" stroke=\"black\" d=\"M605.22,-18C613.21,-18 621.95,-18 630.81,-18\"/>\n",
       "<polygon fill=\"black\" stroke=\"black\" points=\"630.82,-21.5 640.82,-18 630.82,-14.5 630.82,-21.5\"/>\n",
       "</g>\n",
       "</g>\n",
       "</svg>\n"
      ],
      "text/plain": [
       "<graphviz.dot.Digraph at 0x131d4bb20>"
      ]
     },
     "execution_count": 14,
     "metadata": {},
     "output_type": "execute_result"
    }
   ],
   "source": [
    "from ut import dgdisp\n",
    "\n",
    "dgdisp(\"\"\"\n",
    "rankdir=LR\n",
    "categories -> wfs_for_each_category -> transformed_wf_for_each_category -> concatinate -> chunk\n",
    "categories [label=\"a, b...\" shape=none]\n",
    "wfs_for_each_category [label=\"wf_for(a), wf_for(b)...\" shape=none]\n",
    "transformed_wf_for_each_category [label=\"wf_a_with_noise, wf_b_with_noise...\" shape=none]\n",
    "concatinate [label=\"waveform\" shape=none]\n",
    "chunk [label=\"chk1, chk2, chk3...\" shape=none]\n",
    "\"\"\")"
   ]
  },
  {
   "cell_type": "code",
   "execution_count": null,
   "metadata": {},
   "outputs": [],
   "source": []
  },
  {
   "cell_type": "code",
   "execution_count": null,
   "metadata": {},
   "outputs": [],
   "source": []
  },
  {
   "cell_type": "code",
   "execution_count": null,
   "metadata": {},
   "outputs": [],
   "source": []
  },
  {
   "cell_type": "code",
   "execution_count": null,
   "metadata": {},
   "outputs": [],
   "source": []
  },
  {
   "cell_type": "code",
   "execution_count": null,
   "metadata": {},
   "outputs": [],
   "source": []
  },
  {
   "cell_type": "code",
   "execution_count": null,
   "metadata": {},
   "outputs": [],
   "source": []
  },
  {
   "cell_type": "code",
   "execution_count": null,
   "metadata": {},
   "outputs": [],
   "source": []
  },
  {
   "cell_type": "code",
   "execution_count": null,
   "metadata": {},
   "outputs": [],
   "source": []
  },
  {
   "cell_type": "code",
   "execution_count": null,
   "metadata": {},
   "outputs": [],
   "source": []
  }
 ],
 "metadata": {
  "kernelspec": {
   "display_name": "Python 3",
   "language": "python",
   "name": "python3"
  },
  "language_info": {
   "codemirror_mode": {
    "name": "ipython",
    "version": 3
   },
   "file_extension": ".py",
   "mimetype": "text/x-python",
   "name": "python",
   "nbconvert_exporter": "python",
   "pygments_lexer": "ipython3",
   "version": "3.8.6"
  },
  "latex_envs": {
   "LaTeX_envs_menu_present": true,
   "autoclose": false,
   "autocomplete": true,
   "bibliofile": "biblio.bib",
   "cite_by": "apalike",
   "current_citInitial": 1,
   "eqLabelWithNumbers": true,
   "eqNumInitial": 1,
   "hotkeys": {
    "equation": "Ctrl-E",
    "itemize": "Ctrl-I"
   },
   "labels_anchors": false,
   "latex_user_defs": false,
   "report_style_numbering": false,
   "user_envs_cfg": false
  },
  "toc": {
   "base_numbering": 1,
   "nav_menu": {},
   "number_sections": true,
   "sideBar": false,
   "skip_h1_title": false,
   "title_cell": "Table of Contents",
   "title_sidebar": "Contents",
   "toc_cell": true,
   "toc_position": {
    "height": "100px",
    "left": "30.9757px",
    "top": "141.035px",
    "width": "1045.54px"
   },
   "toc_section_display": true,
   "toc_window_display": true
  }
 },
 "nbformat": 4,
 "nbformat_minor": 4
}
