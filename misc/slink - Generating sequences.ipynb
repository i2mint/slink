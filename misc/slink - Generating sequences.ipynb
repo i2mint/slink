{
 "cells": [
  {
   "cell_type": "markdown",
   "metadata": {
    "toc": true
   },
   "source": [
    "<h1>Table of Contents<span class=\"tocSkip\"></span></h1>\n",
    "<div class=\"toc\"><ul class=\"toc-item\"><li><span><a href=\"#Objective\" data-toc-modified-id=\"Objective-1\"><span class=\"toc-item-num\">1&nbsp;&nbsp;</span>Objective</a></span></li><li><span><a href=\"#Design\" data-toc-modified-id=\"Design-2\"><span class=\"toc-item-num\">2&nbsp;&nbsp;</span>Design</a></span><ul class=\"toc-item\"><li><span><a href=\"#Examples-of-sequence-functions\" data-toc-modified-id=\"Examples-of-sequence-functions-2.1\"><span class=\"toc-item-num\">2.1&nbsp;&nbsp;</span>Examples of sequence functions</a></span></li></ul></li></ul></div>"
   ]
  },
  {
   "cell_type": "code",
   "execution_count": null,
   "metadata": {},
   "outputs": [],
   "source": [
    "\n",
    "# frequently used builtins\n",
    "import os\n",
    "from collections import Counter, defaultdict\n",
    "\n",
    "# frequently used data pkgs\n",
    "import numpy as np\n",
    "import pandas as pd\n",
    "\t\t\t\n",
    "# careful import of matplotlib\n",
    "try:\n",
    "\timport matplotlib.pyplot as plt\n",
    "except ModuleNotFoundError as e:  # to catch ModuleNotFoundError: No module named '_tkinter'\n",
    "\timport matplotlib\n",
    "\tmatplotlib.use('agg')\n",
    "\timport matplotlib.pyplot as plt\n",
    "\n",
    "# some magic stuff\n",
    "%reload_ext autoreload\n",
    "%autoreload 2\n",
    "\n",
    "%matplotlib inline\n",
    "%config InlineBackend.figure_format='retina'\n",
    "\n",
    "\n"
   ]
  },
  {
   "cell_type": "code",
   "execution_count": null,
   "metadata": {},
   "outputs": [],
   "source": []
  },
  {
   "cell_type": "markdown",
   "metadata": {
    "ExecuteTime": {
     "end_time": "2021-08-12T10:17:01.503120Z",
     "start_time": "2021-08-12T10:17:01.455551Z"
    }
   },
   "source": [
    "# Objective\n",
    "\n",
    "This package offers tools for generating sequences. Finite ones like lists and arrays, or infinite ones like streams. \n",
    "\n",
    "The items of the sequences can be anything and often one sequence produced will be used to produce another (see further design notes). \n",
    "The target (i.e. final) sequence items would be samples of a signal (like sound, image, or other data from some sensor source) or typical time-series. \n",
    "\n",
    "For starters, our main focus will be generating sound -- that is, servicing the [hum](https://github.com/otosense/hum) package. \n",
    "\n",
    "Our main tools will be taken from [creek](https://github.com/i2mint/creek) and possibly [lined]()\n",
    "\n",
    "\n",
    "# Design\n",
    "\n",
    "Our running examples will be taken from audio production. \n",
    "We'll use `wf` to denote a waveform object (usually a list or array of numbers -- a.k.a. samples or frames). \n",
    "\n",
    "To get a waveform, you specify some `params` (including, say, the kind, \n",
    "or the actual function that the params should be called with to produce the result), \n",
    "and you get a waveform `wf`.\n",
    "\n",
    "![image](https://user-images.githubusercontent.com/1906276/129167933-b1cdba31-0e8c-46b9-b789-c89732d06ce3.png)\n",
    "\n",
    "This `wf` could be a fixed-size object like an array, or could be a source of unbounded amounts of data, \n",
    "like a generator, a stream object, a or a `creek.InfiniteSeq` which gives you the array-like ability to slice (i.e. `wf[i:j]`). \n",
    "\n",
    "The purpose of `slink` is to provide tools to get from params to this `wf`, or what ever the target sequence maybe. \n",
    "The main means of doing so is through a chain of sequences each one being a function of the previous. \n",
    "This function could do things like...\n",
    "\n",
    "\n",
    "<img src=\"https://user-images.githubusercontent.com/1906276/129180811-c6f94159-8a9b-4f42-9f99-34607ade643d.png\" alt=\"drawing\" style=\"width:1000px\"/>\n",
    "\n",
    "\n",
    "```python\n",
    "a, b, c... -> wf_for(a), wf_for(b), wf_for(c), ...  # generate elements of the next sequence based on the items of the last\n",
    "wf_a, wf_b, wf_c... -> add_noise(wf_a), add_noise(wf_b), add_noise(wf_c), ... # transform the items of the last sequence\n",
    "-> concatinate(wf_a_with_noise, ...)  # aggregate these items\n",
    "-> chunk -> wf_chk_1, wf_chk_2, ...  # split these items\n",
    "```\n",
    "\n",
    "All but the last sequence functions above were all \n",
    "- `map` (applying the same function to each element of the input sequence) \n",
    "- `reduce` (aggregating all sequence items into one object -- though that object may be a sequence itself)\n",
    "\n",
    "But some functions can have more complex mechanisms such as inner-state and buffers. \n",
    "This is important to note, since the developer may be tempted to accomodate for sequence functions that operate on a window instead of a single item. \n",
    "But accomodating for this directly would complexify the interface.\n",
    "Instead, we propose to use a mechanism like `lined.BufferStats` to offer a window-input functionality with a single-item-at-a-time interface.\n",
    "\n",
    "## Examples of sequence functions\n",
    "\n",
    "For categoricals: Use the `__getitem__` of a mapping that relates each element of a finite set of seeds to a waveform, \n",
    "or parameters that will be used to produce the waveform:\n",
    "\n",
    "```python\n",
    "cat_map = {'a': [1,2,3], 'b': [4,5,6]}\n",
    "item_func_1 = cat_map.__getitem__\n",
    "# to make the sequence function from this item func, you can do:\n",
    "from lined import iterize\n",
    "seq_func_1 = iterize(item_func_1)\n",
    "```\n",
    "\n",
    "Could also use finite mappings like above for numericals by first using a function that will map to a categorical\n",
    "\n",
    "```python\n",
    "num_to_cat = lambda num: list(cat_map)[num % len(cat_map)]\n",
    "from lined import iterize, Line\n",
    "seq_func_2 = iterize(Line(num_to_cat, item_func_1))\n",
    "```\n",
    "\n",
    "`Line` composes `num_to_cat` and `item_func_1` and `iterize` makes the item-to-item function into a sequence-to-sequence function.\n",
    "\n"
   ]
  },
  {
   "cell_type": "code",
   "execution_count": null,
   "metadata": {},
   "outputs": [],
   "source": []
  },
  {
   "cell_type": "code",
   "execution_count": 14,
   "metadata": {
    "ExecuteTime": {
     "end_time": "2021-08-12T10:29:09.237296Z",
     "start_time": "2021-08-12T10:29:08.939195Z"
    }
   },
   "outputs": [
    {
     "data": {
      "image/svg+xml": [
       "<?xml version=\"1.0\" encoding=\"UTF-8\" standalone=\"no\"?>\n",
       "<!DOCTYPE svg PUBLIC \"-//W3C//DTD SVG 1.1//EN\"\n",
       " \"http://www.w3.org/Graphics/SVG/1.1/DTD/svg11.dtd\">\n",
       "<!-- Generated by graphviz version 2.48.0 (20210717.1556)\n",
       " -->\n",
       "<!-- Pages: 1 -->\n",
       "<svg width=\"772pt\" height=\"44pt\"\n",
       " viewBox=\"0.00 0.00 772.00 44.00\" xmlns=\"http://www.w3.org/2000/svg\" xmlns:xlink=\"http://www.w3.org/1999/xlink\">\n",
       "<g id=\"graph0\" class=\"graph\" transform=\"scale(1 1) rotate(0) translate(4 40)\">\n",
       "<polygon fill=\"white\" stroke=\"transparent\" points=\"-4,4 -4,-40 768,-40 768,4 -4,4\"/>\n",
       "<!-- categories -->\n",
       "<g id=\"node1\" class=\"node\">\n",
       "<title>categories</title>\n",
       "<text text-anchor=\"middle\" x=\"27\" y=\"-14.3\" font-family=\"Times,serif\" font-size=\"14.00\">a, b...</text>\n",
       "</g>\n",
       "<!-- wfs_for_each_category -->\n",
       "<g id=\"node2\" class=\"node\">\n",
       "<title>wfs_for_each_category</title>\n",
       "<text text-anchor=\"middle\" x=\"161\" y=\"-14.3\" font-family=\"Times,serif\" font-size=\"14.00\">wf_for(a), wf_for(b)...</text>\n",
       "</g>\n",
       "<!-- categories&#45;&gt;wfs_for_each_category -->\n",
       "<g id=\"edge1\" class=\"edge\">\n",
       "<title>categories&#45;&gt;wfs_for_each_category</title>\n",
       "<path fill=\"none\" stroke=\"black\" d=\"M54.08,-18C61.75,-18 70.57,-18 79.78,-18\"/>\n",
       "<polygon fill=\"black\" stroke=\"black\" points=\"79.89,-21.5 89.89,-18 79.89,-14.5 79.89,-21.5\"/>\n",
       "</g>\n",
       "<!-- transformed_wf_for_each_category -->\n",
       "<g id=\"node3\" class=\"node\">\n",
       "<title>transformed_wf_for_each_category</title>\n",
       "<text text-anchor=\"middle\" x=\"382\" y=\"-14.3\" font-family=\"Times,serif\" font-size=\"14.00\">wf_a_with_noise, wf_b_with_noise...</text>\n",
       "</g>\n",
       "<!-- wfs_for_each_category&#45;&gt;transformed_wf_for_each_category -->\n",
       "<g id=\"edge2\" class=\"edge\">\n",
       "<title>wfs_for_each_category&#45;&gt;transformed_wf_for_each_category</title>\n",
       "<path fill=\"none\" stroke=\"black\" d=\"M232.2,-18C240.38,-18 248.9,-18 257.54,-18\"/>\n",
       "<polygon fill=\"black\" stroke=\"black\" points=\"257.72,-21.5 267.72,-18 257.72,-14.5 257.72,-21.5\"/>\n",
       "</g>\n",
       "<!-- concatinate -->\n",
       "<g id=\"node4\" class=\"node\">\n",
       "<title>concatinate</title>\n",
       "<text text-anchor=\"middle\" x=\"568.5\" y=\"-14.3\" font-family=\"Times,serif\" font-size=\"14.00\">waveform</text>\n",
       "</g>\n",
       "<!-- transformed_wf_for_each_category&#45;&gt;concatinate -->\n",
       "<g id=\"edge3\" class=\"edge\">\n",
       "<title>transformed_wf_for_each_category&#45;&gt;concatinate</title>\n",
       "<path fill=\"none\" stroke=\"black\" d=\"M496.17,-18C505.09,-18 513.73,-18 521.74,-18\"/>\n",
       "<polygon fill=\"black\" stroke=\"black\" points=\"521.88,-21.5 531.88,-18 521.88,-14.5 521.88,-21.5\"/>\n",
       "</g>\n",
       "<!-- chunk -->\n",
       "<g id=\"node5\" class=\"node\">\n",
       "<title>chunk</title>\n",
       "<text text-anchor=\"middle\" x=\"702.5\" y=\"-14.3\" font-family=\"Times,serif\" font-size=\"14.00\">chk1, chk2, chk3...</text>\n",
       "</g>\n",
       "<!-- concatinate&#45;&gt;chunk -->\n",
       "<g id=\"edge4\" class=\"edge\">\n",
       "<title>concatinate&#45;&gt;chunk</title>\n",
       "<path fill=\"none\" stroke=\"black\" d=\"M605.22,-18C613.21,-18 621.95,-18 630.81,-18\"/>\n",
       "<polygon fill=\"black\" stroke=\"black\" points=\"630.82,-21.5 640.82,-18 630.82,-14.5 630.82,-21.5\"/>\n",
       "</g>\n",
       "</g>\n",
       "</svg>\n"
      ],
      "text/plain": [
       "<graphviz.dot.Digraph at 0x131d4bb20>"
      ]
     },
     "execution_count": 14,
     "metadata": {},
     "output_type": "execute_result"
    }
   ],
   "source": [
    "from ut import dgdisp\n",
    "\n",
    "dgdisp(\"\"\"\n",
    "rankdir=LR\n",
    "categories -> wfs_for_each_category -> transformed_wf_for_each_category -> concatinate -> chunk\n",
    "categories [label=\"a, b...\" shape=none]\n",
    "wfs_for_each_category [label=\"wf_for(a), wf_for(b)...\" shape=none]\n",
    "transformed_wf_for_each_category [label=\"wf_a_with_noise, wf_b_with_noise...\" shape=none]\n",
    "concatinate [label=\"waveform\" shape=none]\n",
    "chunk [label=\"chk1, chk2, chk3...\" shape=none]\n",
    "\"\"\")"
   ]
  },
  {
   "cell_type": "code",
   "execution_count": null,
   "metadata": {},
   "outputs": [],
   "source": [
    "a, b, c... -> wf_for(a), wf_for(b), wf_for(c), ...  \n",
    "wf_a, wf_b, wf_c... -> add_noise(wf_a), add_noise(wf_b), add_noise(wf_c), ... \n",
    "-> concatinate(wf_a_with_noise, ...)  \n",
    "\n",
    "-> chunk -> wf_chk_1, wf_chk_2, \n"
   ]
  },
  {
   "cell_type": "code",
   "execution_count": null,
   "metadata": {},
   "outputs": [],
   "source": []
  },
  {
   "cell_type": "code",
   "execution_count": null,
   "metadata": {},
   "outputs": [],
   "source": []
  },
  {
   "cell_type": "code",
   "execution_count": null,
   "metadata": {},
   "outputs": [],
   "source": []
  },
  {
   "cell_type": "code",
   "execution_count": null,
   "metadata": {},
   "outputs": [],
   "source": []
  },
  {
   "cell_type": "code",
   "execution_count": null,
   "metadata": {},
   "outputs": [],
   "source": []
  },
  {
   "cell_type": "code",
   "execution_count": null,
   "metadata": {},
   "outputs": [],
   "source": []
  },
  {
   "cell_type": "code",
   "execution_count": null,
   "metadata": {},
   "outputs": [],
   "source": []
  },
  {
   "cell_type": "code",
   "execution_count": null,
   "metadata": {},
   "outputs": [],
   "source": []
  }
 ],
 "metadata": {
  "kernelspec": {
   "display_name": "Python 3",
   "language": "python",
   "name": "python3"
  },
  "language_info": {
   "codemirror_mode": {
    "name": "ipython",
    "version": 3
   },
   "file_extension": ".py",
   "mimetype": "text/x-python",
   "name": "python",
   "nbconvert_exporter": "python",
   "pygments_lexer": "ipython3",
   "version": "3.8.6"
  },
  "latex_envs": {
   "LaTeX_envs_menu_present": true,
   "autoclose": false,
   "autocomplete": true,
   "bibliofile": "biblio.bib",
   "cite_by": "apalike",
   "current_citInitial": 1,
   "eqLabelWithNumbers": true,
   "eqNumInitial": 1,
   "hotkeys": {
    "equation": "Ctrl-E",
    "itemize": "Ctrl-I"
   },
   "labels_anchors": false,
   "latex_user_defs": false,
   "report_style_numbering": false,
   "user_envs_cfg": false
  },
  "toc": {
   "base_numbering": 1,
   "nav_menu": {},
   "number_sections": true,
   "sideBar": false,
   "skip_h1_title": false,
   "title_cell": "Table of Contents",
   "title_sidebar": "Contents",
   "toc_cell": true,
   "toc_position": {
    "height": "124.201px",
    "left": "33.9896px",
    "top": "145.035px",
    "width": "1061.77px"
   },
   "toc_section_display": true,
   "toc_window_display": true
  }
 },
 "nbformat": 4,
 "nbformat_minor": 4
}
