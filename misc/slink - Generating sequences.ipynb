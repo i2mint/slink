{
 "cells": [
  {
   "cell_type": "markdown",
   "metadata": {
    "toc": true
   },
   "source": [
    "<h1>Table of Contents<span class=\"tocSkip\"></span></h1>\n",
    "<div class=\"toc\"><ul class=\"toc-item\"><li><span><a href=\"#Design-notes\" data-toc-modified-id=\"Design-notes-1\"><span class=\"toc-item-num\">1&nbsp;&nbsp;</span>Design notes</a></span><ul class=\"toc-item\"><li><span><a href=\"#Objective\" data-toc-modified-id=\"Objective-1.1\"><span class=\"toc-item-num\">1.1&nbsp;&nbsp;</span>Objective</a></span></li><li><span><a href=\"#Design\" data-toc-modified-id=\"Design-1.2\"><span class=\"toc-item-num\">1.2&nbsp;&nbsp;</span>Design</a></span></li><li><span><a href=\"#Examples-of-sequence-functions\" data-toc-modified-id=\"Examples-of-sequence-functions-1.3\"><span class=\"toc-item-num\">1.3&nbsp;&nbsp;</span>Examples of sequence functions</a></span></li></ul></li><li><span><a href=\"#Seed-functions\" data-toc-modified-id=\"Seed-functions-2\"><span class=\"toc-item-num\">2&nbsp;&nbsp;</span>Seed functions</a></span><ul class=\"toc-item\"><li><span><a href=\"#Seed-functions\" data-toc-modified-id=\"Seed-functions-2.1\"><span class=\"toc-item-num\">2.1&nbsp;&nbsp;</span>Seed functions</a></span></li></ul></li><li><span><a href=\"#sequence-functions\" data-toc-modified-id=\"sequence-functions-3\"><span class=\"toc-item-num\">3&nbsp;&nbsp;</span>sequence functions</a></span><ul class=\"toc-item\"><li><span><a href=\"#categorical-maps\" data-toc-modified-id=\"categorical-maps-3.1\"><span class=\"toc-item-num\">3.1&nbsp;&nbsp;</span>categorical maps</a></span></li><li><span><a href=\"#Numerical\" data-toc-modified-id=\"Numerical-3.2\"><span class=\"toc-item-num\">3.2&nbsp;&nbsp;</span>Numerical</a></span></li></ul></li><li><span><a href=\"#Scrap\" data-toc-modified-id=\"Scrap-4\"><span class=\"toc-item-num\">4&nbsp;&nbsp;</span>Scrap</a></span><ul class=\"toc-item\"><li><span><a href=\"#target-functions\" data-toc-modified-id=\"target-functions-4.1\"><span class=\"toc-item-num\">4.1&nbsp;&nbsp;</span>target functions</a></span><ul class=\"toc-item\"><li><span><a href=\"#Categorical-driven-annots-and-wf\" data-toc-modified-id=\"Categorical-driven-annots-and-wf-4.1.1\"><span class=\"toc-item-num\">4.1.1&nbsp;&nbsp;</span>Categorical driven annots and wf</a></span></li></ul></li><li><span><a href=\"#An-example-of-generators\" data-toc-modified-id=\"An-example-of-generators-4.2\"><span class=\"toc-item-num\">4.2&nbsp;&nbsp;</span>An example of generators</a></span></li><li><span><a href=\"#Currying\" data-toc-modified-id=\"Currying-4.3\"><span class=\"toc-item-num\">4.3&nbsp;&nbsp;</span>Currying</a></span></li><li><span><a href=\"#Some-dag-viz\" data-toc-modified-id=\"Some-dag-viz-4.4\"><span class=\"toc-item-num\">4.4&nbsp;&nbsp;</span>Some dag viz</a></span></li></ul></li></ul></div>"
   ]
  },
  {
   "cell_type": "code",
   "execution_count": null,
   "metadata": {},
   "outputs": [],
   "source": [
    "\n",
    "# frequently used builtins\n",
    "import os\n",
    "from collections import Counter, defaultdict\n",
    "\n",
    "# frequently used data pkgs\n",
    "import numpy as np\n",
    "import pandas as pd\n",
    "\t\t\t\n",
    "# careful import of matplotlib\n",
    "try:\n",
    "\timport matplotlib.pyplot as plt\n",
    "except ModuleNotFoundError as e:  # to catch ModuleNotFoundError: No module named '_tkinter'\n",
    "\timport matplotlib\n",
    "\tmatplotlib.use('agg')\n",
    "\timport matplotlib.pyplot as plt\n",
    "\n",
    "# some magic stuff\n",
    "%reload_ext autoreload\n",
    "%autoreload 2\n",
    "\n",
    "%matplotlib inline\n",
    "%config InlineBackend.figure_format='retina'"
   ]
  },
  {
   "cell_type": "code",
   "execution_count": null,
   "metadata": {},
   "outputs": [],
   "source": []
  },
  {
   "cell_type": "markdown",
   "metadata": {
    "ExecuteTime": {
     "end_time": "2021-08-12T10:17:01.503120Z",
     "start_time": "2021-08-12T10:17:01.455551Z"
    }
   },
   "source": [
    "# Design notes\n",
    "\n",
    "## Objective\n",
    "\n",
    "This package offers tools for generating sequences. Finite ones like lists and arrays, or infinite ones like streams. \n",
    "\n",
    "The items of the sequences can be anything and often one sequence produced will be used to produce another (see further design notes). \n",
    "The target (i.e. final) sequence items would be samples of a signal (like sound, image, or other data from some sensor source) or typical time-series. \n",
    "\n",
    "For starters, our main focus will be generating sound -- that is, servicing the [hum](https://github.com/otosense/hum) package. \n",
    "\n",
    "Our main tools will be taken from [creek](https://github.com/i2mint/creek) and possibly [lined]()\n",
    "\n",
    "\n",
    "## Design\n",
    "\n",
    "Our running examples will be taken from audio production. \n",
    "We'll use `wf` to denote a waveform object (usually a list or array of numbers -- a.k.a. samples or frames). \n",
    "\n",
    "To get a waveform, you specify some `params` (including, say, the kind, \n",
    "or the actual function that the params should be called with to produce the result), \n",
    "and you get a waveform `wf`.\n",
    "\n",
    "![image](https://user-images.githubusercontent.com/1906276/129167933-b1cdba31-0e8c-46b9-b789-c89732d06ce3.png)\n",
    "\n",
    "This `wf` could be a fixed-size object like an array, or could be a source of unbounded amounts of data, \n",
    "like a generator, a stream object, a or a `creek.InfiniteSeq` which gives you the array-like ability to slice (i.e. `wf[i:j]`). \n",
    "\n",
    "The purpose of `slink` is to provide tools to get from params to this `wf`, or what ever the target sequence maybe. \n",
    "The main means of doing so is through a chain of sequences each one being a function of the previous. \n",
    "This function could do things like...\n",
    "\n",
    "\n",
    "<img src=\"https://user-images.githubusercontent.com/1906276/129180811-c6f94159-8a9b-4f42-9f99-34607ade643d.png\" alt=\"drawing\" style=\"width:1200px\"/>\n",
    "\n",
    "<img src=\"https://user-images.githubusercontent.com/1906276/129182049-c6717da0-3251-4f1a-bf75-163c92db42da.png\" alt=\"drawing\" style=\"width:1200px\"/>\n",
    "\n",
    "\n",
    "```python\n",
    "a, b, c... -> wf_for(a), wf_for(b), wf_for(c), ...  # generate elements of the next sequence based on the items of the last\n",
    "wf_a, wf_b, wf_c... -> add_noise(wf_a), add_noise(wf_b), add_noise(wf_c), ... # transform the items of the last sequence\n",
    "-> concatinate(wf_a_with_noise, ...)  # aggregate these items\n",
    "-> chunk -> wf_chk_1, wf_chk_2, ...  # split these items\n",
    "```\n",
    "\n",
    "All but the last sequence functions above were all \n",
    "- `map` (applying the same function to each element of the input sequence) \n",
    "- `reduce` (aggregating all sequence items into one object -- though that object may be a sequence itself)\n",
    "\n",
    "But some functions can have more complex mechanisms such as inner-state and buffers. \n",
    "This is important to note, since the developer may be tempted to accommodate for sequence functions that operate on a window instead of a single item. \n",
    "But accommodating for this directly would complexify the interface.\n",
    "Instead, we propose to use a mechanism like `lined.BufferStats` to offer a window-input functionality with a single-item-at-a-time interface.\n",
    "\n",
    "## Examples of sequence functions\n",
    "\n",
    "For categoricals: Use the `__getitem__` of a mapping that relates each element of a finite set of seeds to a waveform, \n",
    "or parameters that will be used to produce the waveform:\n",
    "\n",
    "```python\n",
    "cat_map = {'a': [1,2,3], 'b': [4,5,6]}\n",
    "item_func_1 = cat_map.__getitem__\n",
    "# to make the sequence function from this item func, you can do:\n",
    "from lined import iterize\n",
    "seq_func_1 = iterize(item_func_1)\n",
    "```\n",
    "\n",
    "Could also use finite mappings like above for numericals by first using a function that will map to a categorical\n",
    "\n",
    "```python\n",
    "num_to_cat = lambda num: list(cat_map)[num % len(cat_map)]\n",
    "from lined import iterize, Line\n",
    "seq_func_2 = iterize(Line(num_to_cat, item_func_1))\n",
    "```\n",
    "\n",
    "`Line` composes `num_to_cat` and `item_func_1` and `iterize` makes the item-to-item function into a sequence-to-sequence function.\n",
    "\n"
   ]
  },
  {
   "cell_type": "code",
   "execution_count": null,
   "metadata": {},
   "outputs": [],
   "source": []
  },
  {
   "cell_type": "markdown",
   "metadata": {},
   "source": [
    "# Seed functions"
   ]
  },
  {
   "cell_type": "markdown",
   "metadata": {},
   "source": [
    "Seed functions are the functions that produce the first sequence of the pipeline of sequence transformations. \n",
    "\n",
    "They're not the outer most layer: The outer-most layer contains the whole pipeline, and has as arguments any parameters that the steps of the pipeline might need. \n",
    "\n",
    "A seed functions is called repeatedly to produce either an item at a time (`n=1`), a chunk (`n>1`), or an iterable (`n=0`) that may or may not be a finite one. "
   ]
  },
  {
   "cell_type": "markdown",
   "metadata": {},
   "source": [
    "## Seed functions"
   ]
  },
  {
   "cell_type": "code",
   "execution_count": 123,
   "metadata": {
    "ExecuteTime": {
     "end_time": "2021-08-12T14:29:38.516655Z",
     "start_time": "2021-08-12T14:29:38.484274Z"
    }
   },
   "outputs": [
    {
     "data": {
      "text/plain": [
       "[False, False, True, True]"
      ]
     },
     "execution_count": 123,
     "metadata": {},
     "output_type": "execute_result"
    }
   ],
   "source": [
    "import itertools\n",
    "from slink.seed_functions import RandomCategoricalGenerator\n",
    "\n",
    "r = RandomCategoricalGenerator()\n",
    "it = r(None)\n",
    "assert r() in r.categories # True or False\n",
    "assert r(n=1) in r.categories # same as r()\n",
    "result = r(n=3)\n",
    "assert isinstance(result, list)  # e.g. [False, True, False]\n",
    "r = RandomCategoricalGenerator(chunk_container=tuple)\n",
    "result = r(n=3)\n",
    "assert isinstance(result, tuple)  # e.g. (False, True, False)\n",
    "list(itertools.islice(it, 0, 4)) # e.g. [False, False, False, True]"
   ]
  },
  {
   "cell_type": "markdown",
   "metadata": {},
   "source": [
    "# sequence functions"
   ]
  },
  {
   "cell_type": "code",
   "execution_count": null,
   "metadata": {
    "ExecuteTime": {
     "end_time": "2021-08-12T14:25:08.202224Z",
     "start_time": "2021-08-12T14:25:08.172311Z"
    }
   },
   "outputs": [],
   "source": []
  },
  {
   "cell_type": "code",
   "execution_count": 127,
   "metadata": {
    "ExecuteTime": {
     "end_time": "2021-08-12T14:34:18.314785Z",
     "start_time": "2021-08-12T14:34:18.282428Z"
    }
   },
   "outputs": [],
   "source": [
    "import itertools\n",
    "from functools import partial\n",
    "\n",
    "import numpy as np\n",
    "from lined import iterize, Line, LineParametrized"
   ]
  },
  {
   "cell_type": "markdown",
   "metadata": {},
   "source": [
    "## categorical maps"
   ]
  },
  {
   "cell_type": "code",
   "execution_count": 122,
   "metadata": {
    "ExecuteTime": {
     "end_time": "2021-08-12T14:29:30.030173Z",
     "start_time": "2021-08-12T14:29:30.001729Z"
    }
   },
   "outputs": [],
   "source": [
    "cat_map = {'a': [1,2,3], 'b': [4,5,6]}\n",
    "get_list_for_cat = cat_map.__getitem__\n",
    "\n",
    "# to make the sequence function from this item func, you can do:\n",
    "iterized_get_list_for_cat = iterize(get_list_for_cat)\n",
    "assert list(iterized_get_list_for_cat('abaa')) == [[1, 2, 3], [4, 5, 6], [1, 2, 3], [1, 2, 3]]"
   ]
  },
  {
   "cell_type": "code",
   "execution_count": 146,
   "metadata": {
    "ExecuteTime": {
     "end_time": "2021-08-12T14:38:36.150002Z",
     "start_time": "2021-08-12T14:38:36.119997Z"
    }
   },
   "outputs": [
    {
     "data": {
      "text/plain": [
       "[[4, 5, 6], [1, 2, 3], [1, 2, 3], [4, 5, 6], [4, 5, 6]]"
      ]
     },
     "execution_count": 146,
     "metadata": {},
     "output_type": "execute_result"
    }
   ],
   "source": [
    "def get_list_for_cat(category):\n",
    "    return cat_map[category]\n",
    "\n",
    "seed_gen = RandomCategoricalGenerator(categories='ab')\n",
    "\n",
    "g = Line(\n",
    "    seed_gen,\n",
    "    iterize(get_list_for_cat),\n",
    "    list,\n",
    "    lambda x: x\n",
    ")\n",
    "g(n=5)"
   ]
  },
  {
   "cell_type": "code",
   "execution_count": 149,
   "metadata": {
    "ExecuteTime": {
     "end_time": "2021-08-12T14:42:02.949175Z",
     "start_time": "2021-08-12T14:42:02.913154Z"
    }
   },
   "outputs": [
    {
     "data": {
      "text/plain": [
       "[[4, 5, 5], [9, 10], [5, 4, 4], [4, 5, 4]]"
      ]
     },
     "execution_count": 149,
     "metadata": {},
     "output_type": "execute_result"
    }
   ],
   "source": [
    "cat_2_parms_map = {\n",
    "    'a': dict(loc=5, scale=0.5, size=3),\n",
    "    'b': dict(loc=10, scale=0.3, size=2),\n",
    "}\n",
    "get_params_for_cat = cat_2_parms_map.__getitem__\n",
    "call_normal_rand_on_params = lambda params: np.random.normal(**params)\n",
    "\n",
    "_cat_based_chunk_gen = Line(\n",
    "    get_params_for_cat,  # get some params for a category\n",
    "    call_normal_rand_on_params,  # draw from a normal distribution with those params\n",
    "    iterize(int),  # cast the result to an int\n",
    "    list  # make the arrays into lists (because it's nicer for display)\n",
    ")\n",
    "cat_based_chunk_gen = iterize(_cat_based_chunk_gen)\n",
    "list(cat_based_chunk_gen('abaa'))"
   ]
  },
  {
   "cell_type": "code",
   "execution_count": 86,
   "metadata": {
    "ExecuteTime": {
     "end_time": "2021-08-12T12:45:25.366230Z",
     "start_time": "2021-08-12T12:45:25.342709Z"
    }
   },
   "outputs": [],
   "source": [
    "#_cat_based_chunk_gen.dot_digraph()  # to make that work, need to make get_params_for_cat a function with signature"
   ]
  },
  {
   "cell_type": "code",
   "execution_count": 154,
   "metadata": {
    "ExecuteTime": {
     "end_time": "2021-08-12T14:43:54.471527Z",
     "start_time": "2021-08-12T14:43:54.439135Z"
    }
   },
   "outputs": [
    {
     "data": {
      "text/plain": [
       "[[4, 5, 4], [9, 10], [5, 5, 4], [5, 5, 5]]"
      ]
     },
     "execution_count": 154,
     "metadata": {},
     "output_type": "execute_result"
    }
   ],
   "source": [
    "cat_2_parms_map = {\n",
    "    'a': dict(loc=5, scale=0.5, size=3),\n",
    "    'b': dict(loc=10, scale=0.3, size=2),\n",
    "}\n",
    "\n",
    "def get_params_for_cat(category):\n",
    "    return cat_2_parms_map[category]\n",
    "\n",
    "def call_normal_rand_on_params(params):\n",
    "    return np.random.normal(**params)\n",
    "\n",
    "\n",
    "_cat_based_chunk_gen = Line(\n",
    "    get_params_for_cat,  # get some params for a category\n",
    "    call_normal_rand_on_params,  # draw from a normal distribution with those params\n",
    "    iterize(int),  # cast the result to an int\n",
    "    list  # make the arrays into lists (because it's nicer for display)\n",
    ")\n",
    "cat_based_chunk_gen = iterize(_cat_based_chunk_gen)\n",
    "list(cat_based_chunk_gen('abaa'))"
   ]
  },
  {
   "cell_type": "code",
   "execution_count": 155,
   "metadata": {
    "ExecuteTime": {
     "end_time": "2021-08-12T14:43:56.261723Z",
     "start_time": "2021-08-12T14:43:55.865997Z"
    }
   },
   "outputs": [
    {
     "data": {
      "image/svg+xml": [
       "<?xml version=\"1.0\" encoding=\"UTF-8\" standalone=\"no\"?>\n",
       "<!DOCTYPE svg PUBLIC \"-//W3C//DTD SVG 1.1//EN\"\n",
       " \"http://www.w3.org/Graphics/SVG/1.1/DTD/svg11.dtd\">\n",
       "<!-- Generated by graphviz version 2.48.0 (20210717.1556)\n",
       " -->\n",
       "<!-- Pages: 1 -->\n",
       "<svg width=\"637pt\" height=\"44pt\"\n",
       " viewBox=\"0.00 0.00 637.00 44.00\" xmlns=\"http://www.w3.org/2000/svg\" xmlns:xlink=\"http://www.w3.org/1999/xlink\">\n",
       "<g id=\"graph0\" class=\"graph\" transform=\"scale(1 1) rotate(0) translate(4 40)\">\n",
       "<polygon fill=\"white\" stroke=\"transparent\" points=\"-4,4 -4,-40 633,-40 633,4 -4,4\"/>\n",
       "<!-- category -->\n",
       "<g id=\"node1\" class=\"node\">\n",
       "<title>category</title>\n",
       "<text text-anchor=\"middle\" x=\"32.5\" y=\"-14.3\" font-family=\"Times,serif\" font-size=\"14.00\">category</text>\n",
       "</g>\n",
       "<!-- get_params_for_cat -->\n",
       "<g id=\"node2\" class=\"node\">\n",
       "<title>get_params_for_cat</title>\n",
       "<polygon fill=\"none\" stroke=\"black\" points=\"229,-36 101,-36 101,0 229,0 229,-36\"/>\n",
       "<text text-anchor=\"middle\" x=\"165\" y=\"-14.3\" font-family=\"Times,serif\" font-size=\"14.00\">get_params_for_cat</text>\n",
       "</g>\n",
       "<!-- category&#45;&gt;get_params_for_cat -->\n",
       "<g id=\"edge1\" class=\"edge\">\n",
       "<title>category&#45;&gt;get_params_for_cat</title>\n",
       "<path fill=\"none\" stroke=\"black\" d=\"M65.09,-18C72.98,-18 81.78,-18 90.78,-18\"/>\n",
       "<polygon fill=\"black\" stroke=\"black\" points=\"91,-21.5 101,-18 91,-14.5 91,-21.5\"/>\n",
       "</g>\n",
       "<!-- call_normal_rand_on_params -->\n",
       "<g id=\"node3\" class=\"node\">\n",
       "<title>call_normal_rand_on_params</title>\n",
       "<polygon fill=\"none\" stroke=\"black\" points=\"449,-36 265,-36 265,0 449,0 449,-36\"/>\n",
       "<text text-anchor=\"middle\" x=\"357\" y=\"-14.3\" font-family=\"Times,serif\" font-size=\"14.00\">call_normal_rand_on_params</text>\n",
       "</g>\n",
       "<!-- get_params_for_cat&#45;&gt;call_normal_rand_on_params -->\n",
       "<g id=\"edge2\" class=\"edge\">\n",
       "<title>get_params_for_cat&#45;&gt;call_normal_rand_on_params</title>\n",
       "<path fill=\"none\" stroke=\"black\" d=\"M229,-18C237.23,-18 245.83,-18 254.49,-18\"/>\n",
       "<polygon fill=\"black\" stroke=\"black\" points=\"254.68,-21.5 264.68,-18 254.68,-14.5 254.68,-21.5\"/>\n",
       "</g>\n",
       "<!-- int -->\n",
       "<g id=\"node4\" class=\"node\">\n",
       "<title>int</title>\n",
       "<polygon fill=\"none\" stroke=\"black\" points=\"539,-36 485,-36 485,0 539,0 539,-36\"/>\n",
       "<text text-anchor=\"middle\" x=\"512\" y=\"-14.3\" font-family=\"Times,serif\" font-size=\"14.00\">int</text>\n",
       "</g>\n",
       "<!-- call_normal_rand_on_params&#45;&gt;int -->\n",
       "<g id=\"edge3\" class=\"edge\">\n",
       "<title>call_normal_rand_on_params&#45;&gt;int</title>\n",
       "<path fill=\"none\" stroke=\"black\" d=\"M449.21,-18C458.19,-18 466.88,-18 474.77,-18\"/>\n",
       "<polygon fill=\"black\" stroke=\"black\" points=\"474.99,-21.5 484.99,-18 474.99,-14.5 474.99,-21.5\"/>\n",
       "</g>\n",
       "<!-- list -->\n",
       "<g id=\"node5\" class=\"node\">\n",
       "<title>list</title>\n",
       "<polygon fill=\"none\" stroke=\"black\" points=\"629,-36 575,-36 575,0 629,0 629,-36\"/>\n",
       "<text text-anchor=\"middle\" x=\"602\" y=\"-14.3\" font-family=\"Times,serif\" font-size=\"14.00\">list</text>\n",
       "</g>\n",
       "<!-- int&#45;&gt;list -->\n",
       "<g id=\"edge4\" class=\"edge\">\n",
       "<title>int&#45;&gt;list</title>\n",
       "<path fill=\"none\" stroke=\"black\" d=\"M539.4,-18C547.39,-18 556.31,-18 564.82,-18\"/>\n",
       "<polygon fill=\"black\" stroke=\"black\" points=\"564.92,-21.5 574.92,-18 564.92,-14.5 564.92,-21.5\"/>\n",
       "</g>\n",
       "</g>\n",
       "</svg>\n"
      ],
      "text/plain": [
       "<graphviz.dot.Digraph at 0x129584520>"
      ]
     },
     "execution_count": 155,
     "metadata": {},
     "output_type": "execute_result"
    }
   ],
   "source": [
    "_cat_based_chunk_gen.dot_digraph()"
   ]
  },
  {
   "cell_type": "markdown",
   "metadata": {
    "ExecuteTime": {
     "end_time": "2021-08-12T14:44:22.492276Z",
     "start_time": "2021-08-12T14:44:22.464688Z"
    }
   },
   "source": [
    "## Numerical"
   ]
  },
  {
   "cell_type": "code",
   "execution_count": 203,
   "metadata": {
    "ExecuteTime": {
     "end_time": "2021-08-12T15:54:08.126268Z",
     "start_time": "2021-08-12T15:54:08.096318Z"
    }
   },
   "outputs": [
    {
     "data": {
      "text/plain": [
       "array([1.44444444, 2.        , 2.55555556])"
      ]
     },
     "execution_count": 203,
     "metadata": {},
     "output_type": "execute_result"
    }
   ],
   "source": [
    "# TODO: Replace norm_offset and norm_scale by a num normalizing function\n",
    "# TODO: Give control over spectr normalization\n",
    "def get_spectr_from_number(num, spectr, norm_offset, norm_scale):\n",
    "    \"\"\"\n",
    "    This function is meant to be curried so that only num is left.\n",
    "    - spectr is meant to be fixed for a given dimension of data (where the nums are coming from)\n",
    "    - \n",
    "    \"\"\"\n",
    "    spectr = np.array(spectr)\n",
    "    normalized_num = (num - norm_offset) / norm_scale\n",
    "    original_spectr_sum = sum(spectr)\n",
    "    spectr = spectr + normalized_num  # shift spectr by normalized_num\n",
    "    factor_to_conserve_sum = original_spectr_sum / sum(spectr)\n",
    "    return spectr * factor_to_conserve_sum\n",
    "\n",
    "\n",
    "list_of_ints = Line(\n",
    "    iterize(int),\n",
    "    list,\n",
    ")\n",
    "\n",
    "lists_of_list_of_ints = Line(\n",
    "    iterize(list_of_ints),\n",
    "    list,\n",
    ")\n",
    "\n",
    "\n",
    "get_params_from_number(10, [1, 2, 3], 2, 5)"
   ]
  },
  {
   "cell_type": "code",
   "execution_count": 204,
   "metadata": {
    "ExecuteTime": {
     "end_time": "2021-08-12T15:54:10.113811Z",
     "start_time": "2021-08-12T15:54:10.085474Z"
    }
   },
   "outputs": [
    {
     "data": {
      "text/plain": [
       "[1350, 229]"
      ]
     },
     "execution_count": 204,
     "metadata": {},
     "output_type": "execute_result"
    }
   ],
   "source": [
    "_num_based_wf_gen = LineParametrized(\n",
    "    ('get_spectr', partial(get_spectr_from_number, spectr=[400, 900, 50], norm_offset=2, norm_scale=10)), \n",
    "    ('wf_to_spectr', np.fft.rfft),\n",
    "    ('normalize_rfft', lambda rfft_wf: np.abs(rfft_wf)),\n",
    ")\n",
    "\n",
    "list_of_ints(_num_based_wf_gen(10000))"
   ]
  },
  {
   "cell_type": "code",
   "execution_count": 205,
   "metadata": {
    "ExecuteTime": {
     "end_time": "2021-08-12T15:54:11.184789Z",
     "start_time": "2021-08-12T15:54:10.908229Z"
    }
   },
   "outputs": [
    {
     "data": {
      "image/svg+xml": [
       "<?xml version=\"1.0\" encoding=\"UTF-8\" standalone=\"no\"?>\n",
       "<!DOCTYPE svg PUBLIC \"-//W3C//DTD SVG 1.1//EN\"\n",
       " \"http://www.w3.org/Graphics/SVG/1.1/DTD/svg11.dtd\">\n",
       "<!-- Generated by graphviz version 2.48.0 (20210717.1556)\n",
       " -->\n",
       "<!-- Pages: 1 -->\n",
       "<svg width=\"609pt\" height=\"287pt\"\n",
       " viewBox=\"0.00 0.00 609.00 287.00\" xmlns=\"http://www.w3.org/2000/svg\" xmlns:xlink=\"http://www.w3.org/1999/xlink\">\n",
       "<g id=\"graph0\" class=\"graph\" transform=\"scale(1 1) rotate(0) translate(4 283)\">\n",
       "<polygon fill=\"white\" stroke=\"transparent\" points=\"-4,4 -4,-283 605,-283 605,4 -4,4\"/>\n",
       "<!-- num -->\n",
       "<g id=\"node1\" class=\"node\">\n",
       "<title>num</title>\n",
       "<text text-anchor=\"middle\" x=\"46.5\" y=\"-257.3\" font-family=\"Times,serif\" font-size=\"14.00\">num</text>\n",
       "</g>\n",
       "<!-- get_spectr -->\n",
       "<g id=\"node2\" class=\"node\">\n",
       "<title>get_spectr</title>\n",
       "<polygon fill=\"none\" stroke=\"black\" points=\"204,-198 130,-198 130,-162 204,-162 204,-198\"/>\n",
       "<text text-anchor=\"middle\" x=\"167\" y=\"-176.3\" font-family=\"Times,serif\" font-size=\"14.00\">get_spectr</text>\n",
       "</g>\n",
       "<!-- num&#45;&gt;get_spectr -->\n",
       "<g id=\"edge1\" class=\"edge\">\n",
       "<title>num&#45;&gt;get_spectr</title>\n",
       "<path fill=\"none\" stroke=\"black\" d=\"M73.77,-246.03C80.14,-242.23 86.88,-238.07 93,-234 107,-224.7 122.01,-213.78 134.75,-204.2\"/>\n",
       "<polygon fill=\"black\" stroke=\"black\" points=\"136.9,-206.96 142.76,-198.13 132.68,-201.38 136.9,-206.96\"/>\n",
       "</g>\n",
       "<!-- wf_to_spectr -->\n",
       "<g id=\"node6\" class=\"node\">\n",
       "<title>wf_to_spectr</title>\n",
       "<polygon fill=\"none\" stroke=\"black\" points=\"337,-117 247,-117 247,-81 337,-81 337,-117\"/>\n",
       "<text text-anchor=\"middle\" x=\"292\" y=\"-95.3\" font-family=\"Times,serif\" font-size=\"14.00\">wf_to_spectr</text>\n",
       "</g>\n",
       "<!-- get_spectr&#45;&gt;wf_to_spectr -->\n",
       "<g id=\"edge5\" class=\"edge\">\n",
       "<title>get_spectr&#45;&gt;wf_to_spectr</title>\n",
       "<path fill=\"none\" stroke=\"black\" d=\"M195.6,-161.82C213.17,-150.25 236.1,-135.15 255.08,-122.65\"/>\n",
       "<polygon fill=\"black\" stroke=\"black\" points=\"257.06,-125.54 263.49,-117.12 253.21,-119.69 257.06,-125.54\"/>\n",
       "<text text-anchor=\"middle\" x=\"225.5\" y=\"-147.8\" font-family=\"Times,serif\" font-size=\"14.00\">a</text>\n",
       "</g>\n",
       "<!-- spectr -->\n",
       "<g id=\"node3\" class=\"node\">\n",
       "<title>spectr</title>\n",
       "<text text-anchor=\"middle\" x=\"46.5\" y=\"-203.3\" font-family=\"Times,serif\" font-size=\"14.00\">spectr=</text>\n",
       "</g>\n",
       "<!-- spectr&#45;&gt;get_spectr -->\n",
       "<g id=\"edge2\" class=\"edge\">\n",
       "<title>spectr&#45;&gt;get_spectr</title>\n",
       "<path fill=\"none\" stroke=\"black\" d=\"M75.58,-200.6C88.71,-197.61 104.68,-193.97 119.53,-190.59\"/>\n",
       "<polygon fill=\"black\" stroke=\"black\" points=\"120.61,-193.93 129.59,-188.3 119.06,-187.11 120.61,-193.93\"/>\n",
       "</g>\n",
       "<!-- norm_offset -->\n",
       "<g id=\"node4\" class=\"node\">\n",
       "<title>norm_offset</title>\n",
       "<text text-anchor=\"middle\" x=\"46.5\" y=\"-149.3\" font-family=\"Times,serif\" font-size=\"14.00\">norm_offset=</text>\n",
       "</g>\n",
       "<!-- norm_offset&#45;&gt;get_spectr -->\n",
       "<g id=\"edge3\" class=\"edge\">\n",
       "<title>norm_offset&#45;&gt;get_spectr</title>\n",
       "<path fill=\"none\" stroke=\"black\" d=\"M93.32,-163.44C102.02,-165.42 111.14,-167.5 119.85,-169.49\"/>\n",
       "<polygon fill=\"black\" stroke=\"black\" points=\"119.33,-172.96 129.86,-171.76 120.88,-166.13 119.33,-172.96\"/>\n",
       "</g>\n",
       "<!-- norm_scale -->\n",
       "<g id=\"node5\" class=\"node\">\n",
       "<title>norm_scale</title>\n",
       "<text text-anchor=\"middle\" x=\"46.5\" y=\"-95.3\" font-family=\"Times,serif\" font-size=\"14.00\">norm_scale=</text>\n",
       "</g>\n",
       "<!-- norm_scale&#45;&gt;get_spectr -->\n",
       "<g id=\"edge4\" class=\"edge\">\n",
       "<title>norm_scale&#45;&gt;get_spectr</title>\n",
       "<path fill=\"none\" stroke=\"black\" d=\"M79.09,-117.18C83.8,-120.05 88.56,-123.05 93,-126 97.26,-128.83 115.96,-142.67 133.36,-155.62\"/>\n",
       "<polygon fill=\"black\" stroke=\"black\" points=\"131.62,-158.69 141.73,-161.86 135.81,-153.08 131.62,-158.69\"/>\n",
       "</g>\n",
       "<!-- normalize_rfft -->\n",
       "<g id=\"node10\" class=\"node\">\n",
       "<title>normalize_rfft</title>\n",
       "<polygon fill=\"none\" stroke=\"black\" points=\"510,-117 413,-117 413,-81 510,-81 510,-117\"/>\n",
       "<text text-anchor=\"middle\" x=\"461.5\" y=\"-95.3\" font-family=\"Times,serif\" font-size=\"14.00\">normalize_rfft</text>\n",
       "</g>\n",
       "<!-- wf_to_spectr&#45;&gt;normalize_rfft -->\n",
       "<g id=\"edge9\" class=\"edge\">\n",
       "<title>wf_to_spectr&#45;&gt;normalize_rfft</title>\n",
       "<path fill=\"none\" stroke=\"black\" d=\"M337.01,-99C357.17,-99 381.34,-99 402.93,-99\"/>\n",
       "<polygon fill=\"black\" stroke=\"black\" points=\"402.97,-102.5 412.97,-99 402.97,-95.5 402.97,-102.5\"/>\n",
       "<text text-anchor=\"middle\" x=\"375\" y=\"-102.8\" font-family=\"Times,serif\" font-size=\"14.00\">rfft_wf</text>\n",
       "</g>\n",
       "<!-- n -->\n",
       "<g id=\"node7\" class=\"node\">\n",
       "<title>n</title>\n",
       "<text text-anchor=\"middle\" x=\"167\" y=\"-122.3\" font-family=\"Times,serif\" font-size=\"14.00\">n=</text>\n",
       "</g>\n",
       "<!-- n&#45;&gt;wf_to_spectr -->\n",
       "<g id=\"edge6\" class=\"edge\">\n",
       "<title>n&#45;&gt;wf_to_spectr</title>\n",
       "<path fill=\"none\" stroke=\"black\" d=\"M194.09,-120.27C206.46,-117.56 221.74,-114.2 236.48,-110.97\"/>\n",
       "<polygon fill=\"black\" stroke=\"black\" points=\"237.53,-114.32 246.55,-108.76 236.03,-107.48 237.53,-114.32\"/>\n",
       "</g>\n",
       "<!-- axis -->\n",
       "<g id=\"node8\" class=\"node\">\n",
       "<title>axis</title>\n",
       "<text text-anchor=\"middle\" x=\"167\" y=\"-68.3\" font-family=\"Times,serif\" font-size=\"14.00\">axis=</text>\n",
       "</g>\n",
       "<!-- axis&#45;&gt;wf_to_spectr -->\n",
       "<g id=\"edge7\" class=\"edge\">\n",
       "<title>axis&#45;&gt;wf_to_spectr</title>\n",
       "<path fill=\"none\" stroke=\"black\" d=\"M194.09,-77.73C206.46,-80.44 221.74,-83.8 236.48,-87.03\"/>\n",
       "<polygon fill=\"black\" stroke=\"black\" points=\"236.03,-90.52 246.55,-89.24 237.53,-83.68 236.03,-90.52\"/>\n",
       "</g>\n",
       "<!-- norm -->\n",
       "<g id=\"node9\" class=\"node\">\n",
       "<title>norm</title>\n",
       "<text text-anchor=\"middle\" x=\"167\" y=\"-14.3\" font-family=\"Times,serif\" font-size=\"14.00\">norm=</text>\n",
       "</g>\n",
       "<!-- norm&#45;&gt;wf_to_spectr -->\n",
       "<g id=\"edge8\" class=\"edge\">\n",
       "<title>norm&#45;&gt;wf_to_spectr</title>\n",
       "<path fill=\"none\" stroke=\"black\" d=\"M194.09,-35.18C211.7,-46.78 235.19,-62.25 254.63,-75.05\"/>\n",
       "<polygon fill=\"black\" stroke=\"black\" points=\"252.97,-78.14 263.24,-80.72 256.82,-72.3 252.97,-78.14\"/>\n",
       "</g>\n",
       "<!-- output -->\n",
       "<g id=\"node11\" class=\"node\">\n",
       "<title>output</title>\n",
       "<text text-anchor=\"middle\" x=\"574\" y=\"-95.3\" font-family=\"Times,serif\" font-size=\"14.00\">output</text>\n",
       "</g>\n",
       "<!-- normalize_rfft&#45;&gt;output -->\n",
       "<g id=\"edge10\" class=\"edge\">\n",
       "<title>normalize_rfft&#45;&gt;output</title>\n",
       "<path fill=\"none\" stroke=\"black\" d=\"M510,-99C518.99,-99 528.25,-99 536.81,-99\"/>\n",
       "<polygon fill=\"black\" stroke=\"black\" points=\"536.85,-102.5 546.85,-99 536.85,-95.5 536.85,-102.5\"/>\n",
       "</g>\n",
       "</g>\n",
       "</svg>\n"
      ],
      "text/plain": [
       "<graphviz.dot.Digraph at 0x127e99070>"
      ]
     },
     "execution_count": 205,
     "metadata": {},
     "output_type": "execute_result"
    }
   ],
   "source": [
    "_num_based_wf_gen.dot_digraph()"
   ]
  },
  {
   "cell_type": "code",
   "execution_count": 207,
   "metadata": {
    "ExecuteTime": {
     "end_time": "2021-08-12T15:54:30.980264Z",
     "start_time": "2021-08-12T15:54:30.946508Z"
    }
   },
   "outputs": [
    {
     "data": {
      "text/plain": [
       "[[1350, 739], [1350, 229], [1350, 728]]"
      ]
     },
     "execution_count": 207,
     "metadata": {},
     "output_type": "execute_result"
    }
   ],
   "source": [
    "num_based_wf_gen = iterize(_num_based_wf_gen)\n",
    "lists_of_list_of_ints(num_based_wf_gen([4, 10000, 70]))"
   ]
  },
  {
   "cell_type": "code",
   "execution_count": null,
   "metadata": {},
   "outputs": [],
   "source": []
  },
  {
   "cell_type": "code",
   "execution_count": null,
   "metadata": {},
   "outputs": [],
   "source": []
  },
  {
   "cell_type": "code",
   "execution_count": null,
   "metadata": {},
   "outputs": [],
   "source": []
  },
  {
   "cell_type": "markdown",
   "metadata": {},
   "source": [
    "# Scrap"
   ]
  },
  {
   "cell_type": "markdown",
   "metadata": {},
   "source": [
    "## target functions"
   ]
  },
  {
   "cell_type": "code",
   "execution_count": 61,
   "metadata": {
    "ExecuteTime": {
     "end_time": "2021-08-16T16:17:47.222101Z",
     "start_time": "2021-08-16T16:17:47.165088Z"
    }
   },
   "outputs": [],
   "source": [
    "def datagen():\n",
    "    \"\"\"What ever the default data gen is -- controllable through module/system configs\"\"\"\n",
    "\n",
    "\n",
    "# which really comes from a totally defaulted function controlled by a `kind` argument:\n",
    "obj_of_kind = dict()  # Mapping[str, Callable]\n",
    "DFLT_KIND = 'wf'\n",
    "\n",
    "def _kind_to_obj(kind):\n",
    "    if isinstance(kind, str):\n",
    "        return obj_of_kind[kind]\n",
    "    return kind\n",
    "\n",
    "\n",
    "def datagen(kind=DFLT_KIND, **kwargs):\n",
    "    \"\"\"Provides data of the given kind, controlled by kwargs parameters\"\"\"\n",
    "    obj = _kind_to_obj(kind)\n",
    "    return obj(**kwargs)\n",
    "\n",
    "\n",
    "# can some kwargs be shared by all?\n",
    "\n",
    "def datagen(kind=DFLT_KIND, n_items=None, **kwargs):\n",
    "    \"\"\"if n_items is an int, will yield that many items -- if not will be an infinite generator\"\"\"\n",
    "\n",
    "    \n",
    "# forged/him\n",
    "from numbers import Number\n",
    "from typing import Union, Tuple, Dict, Any, Callable\n",
    "Num = Union[float, int]\n",
    "\n",
    "Categories = Union[int, Tuple[str], Dict[str, Number]]\n",
    "Category = str\n",
    "\n",
    "# CategoriesWithROW = Optional[Categories]\n",
    "\n",
    "def categorized_wf_and_annots(\n",
    "    categories: Categories=('cat', 'dog'),  # int, list of cateogories, {cat: weight, ...} dict, \n",
    "    coverage=0.1,\n",
    "#     tag_for_not_tagged: str = 'row',\n",
    "    include_not_tagged_as_tag: bool = True\n",
    "#     add_rest_of_world: bool, \n",
    "):\n",
    "    # wf_store: Mapping[Key, Wf], annots: Iterable[annotation_item]\n",
    "    return wf_store, annot_store  \n",
    "\n",
    "\n",
    "from lined import Line\n",
    "\n",
    "iter_to_dict = Line(enumerate, dict)\n",
    "\n",
    "\n",
    "\n",
    "def _ensure_categories(categories: Categories):\n",
    "    if isinstance(categories, int):\n",
    "        n_categories = categories\n",
    "        list('abcdefghijklmnopqrstuvwxyz'[:n_categories])\n",
    "    if not isinstance(categories, dict):\n",
    "        categories = {category: 1 for category in categories}\n",
    "    total_weight = sum(categories.values())\n",
    "    return {category: weight / total_weight for category, weight in categories.items()}\n",
    "\n",
    "# TODO: Use frozendict or add [(k, v), ...] to dict in the above\n",
    "Waveform = Any\n",
    "BT = Num\n",
    "TT = Num\n",
    "TaggedSegmentArgs = [Category, BT, TT]\n",
    "Annot = Any\n",
    "\n",
    "\n",
    "def single_wf_full_coverage_truth(\n",
    "    cat_bt_tt_to_wf: Callable[TaggedSegmentArgs, Waveform], \n",
    "    cat_bt_tt_to_annot: Callable[TaggedSegmentArgs, Annot],\n",
    "    categories: Categories=('cat', 'dog', '_something_else'),\n",
    "    # group and aggreg func for wf?\n",
    "):\n",
    "    categories = _ensure_categories(categories)\n",
    "    # make iterable of cat_bt_tt\n",
    "    # make wf_store from it using cat_bt_tt_to_wf\n",
    "    # make annot_store from it using cat_bt_tt_to_annot\n",
    "    # wf_store: Mapping[Key, Wf], annots: Iterable[annotation_item]\n",
    "    return wf, annots\n",
    "\n",
    "def multiple_wf_full_coverage_truth(\n",
    "):\n",
    "    \"\"\"returns wf_store and annots_store\"\"\"\n",
    "    "
   ]
  },
  {
   "cell_type": "code",
   "execution_count": 55,
   "metadata": {
    "ExecuteTime": {
     "end_time": "2021-08-16T15:58:57.157242Z",
     "start_time": "2021-08-16T15:58:57.107877Z"
    }
   },
   "outputs": [
    {
     "data": {
      "text/plain": [
       "{'cat': 0.3333333333333333,\n",
       " 'dog': 0.3333333333333333,\n",
       " '_something_else': 0.3333333333333333}"
      ]
     },
     "execution_count": 55,
     "metadata": {},
     "output_type": "execute_result"
    }
   ],
   "source": [
    "full_coverage_truth()"
   ]
  },
  {
   "cell_type": "code",
   "execution_count": 50,
   "metadata": {
    "ExecuteTime": {
     "end_time": "2021-08-16T15:55:38.093928Z",
     "start_time": "2021-08-16T15:55:38.043199Z"
    }
   },
   "outputs": [
    {
     "data": {
      "text/plain": [
       "'abcdefghijklmnopqrstuvwxyz'"
      ]
     },
     "execution_count": 50,
     "metadata": {},
     "output_type": "execute_result"
    }
   ],
   "source": [
    "''.join(map(chr, range(97, 123)))"
   ]
  },
  {
   "cell_type": "markdown",
   "metadata": {},
   "source": [
    "('cat', 'dog') --> everything covered by cats xor dogs\n",
    "\n",
    "('cat', 'dog') --> everything covered by cats xor dogs xor nothing\n",
    "\n",
    "('cat', 'dog', 'not_tagged')\n",
    "\n",
    "---******____________--______***\n"
   ]
  },
  {
   "cell_type": "code",
   "execution_count": null,
   "metadata": {},
   "outputs": [],
   "source": [
    "full_coverage_truth({'cat': 1, 'dog': 2, '_something_else': 17})\n"
   ]
  },
  {
   "cell_type": "markdown",
   "metadata": {
    "ExecuteTime": {
     "end_time": "2021-08-16T15:34:54.649447Z",
     "start_time": "2021-08-16T15:34:54.594317Z"
    }
   },
   "source": [
    "full_coverage_truth({'cat': 1, 'dog'a\n"
   ]
  },
  {
   "cell_type": "code",
   "execution_count": 45,
   "metadata": {
    "ExecuteTime": {
     "end_time": "2021-08-16T15:41:35.602084Z",
     "start_time": "2021-08-16T15:41:35.510310Z"
    }
   },
   "outputs": [
    {
     "data": {
      "text/plain": [
       "{0: 12, 1: 22, 2: 30}"
      ]
     },
     "execution_count": 45,
     "metadata": {},
     "output_type": "execute_result"
    }
   ],
   "source": [
    "t = [12,22,30]\n",
    "tt = iter_to_dict(t)\n",
    "tt"
   ]
  },
  {
   "cell_type": "code",
   "execution_count": 35,
   "metadata": {
    "ExecuteTime": {
     "end_time": "2021-08-16T15:34:35.412025Z",
     "start_time": "2021-08-16T15:34:35.363385Z"
    }
   },
   "outputs": [
    {
     "data": {
      "text/plain": [
       "False"
      ]
     },
     "execution_count": 35,
     "metadata": {},
     "output_type": "execute_result"
    }
   ],
   "source": [
    "not_tagged = NotTaggedTag()\n",
    "not_tagged == '_not_tagged'"
   ]
  },
  {
   "cell_type": "code",
   "execution_count": 4,
   "metadata": {
    "ExecuteTime": {
     "end_time": "2021-08-16T14:39:48.042144Z",
     "start_time": "2021-08-16T14:39:47.695547Z"
    }
   },
   "outputs": [
    {
     "data": {
      "image/svg+xml": [
       "<?xml version=\"1.0\" encoding=\"UTF-8\" standalone=\"no\"?>\n",
       "<!DOCTYPE svg PUBLIC \"-//W3C//DTD SVG 1.1//EN\"\n",
       " \"http://www.w3.org/Graphics/SVG/1.1/DTD/svg11.dtd\">\n",
       "<!-- Generated by graphviz version 2.48.0 (20210717.1556)\n",
       " -->\n",
       "<!-- Pages: 1 -->\n",
       "<svg width=\"141pt\" height=\"116pt\"\n",
       " viewBox=\"0.00 0.00 140.59 116.00\" xmlns=\"http://www.w3.org/2000/svg\" xmlns:xlink=\"http://www.w3.org/1999/xlink\">\n",
       "<g id=\"graph0\" class=\"graph\" transform=\"scale(1 1) rotate(0) translate(4 112)\">\n",
       "<polygon fill=\"white\" stroke=\"transparent\" points=\"-4,4 -4,-112 136.59,-112 136.59,4 -4,4\"/>\n",
       "<!-- params -->\n",
       "<g id=\"node1\" class=\"node\">\n",
       "<title>params</title>\n",
       "<ellipse fill=\"none\" stroke=\"black\" cx=\"66.29\" cy=\"-90\" rx=\"37.09\" ry=\"18\"/>\n",
       "<text text-anchor=\"middle\" x=\"66.29\" y=\"-86.3\" font-family=\"Times,serif\" font-size=\"14.00\">params</text>\n",
       "</g>\n",
       "<!-- wf_and_annots -->\n",
       "<g id=\"node2\" class=\"node\">\n",
       "<title>wf_and_annots</title>\n",
       "<ellipse fill=\"none\" stroke=\"black\" cx=\"66.29\" cy=\"-18\" rx=\"66.09\" ry=\"18\"/>\n",
       "<text text-anchor=\"middle\" x=\"66.29\" y=\"-14.3\" font-family=\"Times,serif\" font-size=\"14.00\">wf_and_annots</text>\n",
       "</g>\n",
       "<!-- params&#45;&gt;wf_and_annots -->\n",
       "<g id=\"edge1\" class=\"edge\">\n",
       "<title>params&#45;&gt;wf_and_annots</title>\n",
       "<path fill=\"none\" stroke=\"black\" d=\"M66.29,-71.7C66.29,-63.98 66.29,-54.71 66.29,-46.11\"/>\n",
       "<polygon fill=\"black\" stroke=\"black\" points=\"69.79,-46.1 66.29,-36.1 62.79,-46.1 69.79,-46.1\"/>\n",
       "</g>\n",
       "</g>\n",
       "</svg>\n"
      ],
      "text/plain": [
       "<graphviz.dot.Digraph at 0x123bd0b50>"
      ]
     },
     "execution_count": 4,
     "metadata": {},
     "output_type": "execute_result"
    }
   ],
   "source": [
    "from ut import dgdisp\n",
    "\n",
    "dgdisp(\"\"\"\n",
    "params -> wf_and_annots\n",
    "\"\"\")"
   ]
  },
  {
   "cell_type": "code",
   "execution_count": 7,
   "metadata": {
    "ExecuteTime": {
     "end_time": "2021-08-16T14:41:51.613854Z",
     "start_time": "2021-08-16T14:41:51.250882Z"
    }
   },
   "outputs": [
    {
     "data": {
      "image/svg+xml": [
       "<?xml version=\"1.0\" encoding=\"UTF-8\" standalone=\"no\"?>\n",
       "<!DOCTYPE svg PUBLIC \"-//W3C//DTD SVG 1.1//EN\"\n",
       " \"http://www.w3.org/Graphics/SVG/1.1/DTD/svg11.dtd\">\n",
       "<!-- Generated by graphviz version 2.48.0 (20210717.1556)\n",
       " -->\n",
       "<!-- Pages: 1 -->\n",
       "<svg width=\"99pt\" height=\"332pt\"\n",
       " viewBox=\"0.00 0.00 99.05 332.00\" xmlns=\"http://www.w3.org/2000/svg\" xmlns:xlink=\"http://www.w3.org/1999/xlink\">\n",
       "<g id=\"graph0\" class=\"graph\" transform=\"scale(1 1) rotate(0) translate(4 328)\">\n",
       "<polygon fill=\"white\" stroke=\"transparent\" points=\"-4,4 -4,-328 95.05,-328 95.05,4 -4,4\"/>\n",
       "<!-- params -->\n",
       "<g id=\"node1\" class=\"node\">\n",
       "<title>params</title>\n",
       "<ellipse fill=\"none\" stroke=\"black\" cx=\"54\" cy=\"-306\" rx=\"37.09\" ry=\"18\"/>\n",
       "<text text-anchor=\"middle\" x=\"54\" y=\"-302.3\" font-family=\"Times,serif\" font-size=\"14.00\">params</text>\n",
       "</g>\n",
       "<!-- annots -->\n",
       "<g id=\"node2\" class=\"node\">\n",
       "<title>annots</title>\n",
       "<ellipse fill=\"none\" stroke=\"black\" cx=\"54\" cy=\"-234\" rx=\"34.39\" ry=\"18\"/>\n",
       "<text text-anchor=\"middle\" x=\"54\" y=\"-230.3\" font-family=\"Times,serif\" font-size=\"14.00\">annots</text>\n",
       "</g>\n",
       "<!-- params&#45;&gt;annots -->\n",
       "<g id=\"edge1\" class=\"edge\">\n",
       "<title>params&#45;&gt;annots</title>\n",
       "<path fill=\"none\" stroke=\"black\" d=\"M54,-287.7C54,-279.98 54,-270.71 54,-262.11\"/>\n",
       "<polygon fill=\"black\" stroke=\"black\" points=\"57.5,-262.1 54,-252.1 50.5,-262.1 57.5,-262.1\"/>\n",
       "</g>\n",
       "<!-- wf -->\n",
       "<g id=\"node3\" class=\"node\">\n",
       "<title>wf</title>\n",
       "<ellipse fill=\"none\" stroke=\"black\" cx=\"27\" cy=\"-162\" rx=\"27\" ry=\"18\"/>\n",
       "<text text-anchor=\"middle\" x=\"27\" y=\"-158.3\" font-family=\"Times,serif\" font-size=\"14.00\">wf</text>\n",
       "</g>\n",
       "<!-- annots&#45;&gt;wf -->\n",
       "<g id=\"edge2\" class=\"edge\">\n",
       "<title>annots&#45;&gt;wf</title>\n",
       "<path fill=\"none\" stroke=\"black\" d=\"M47.46,-216.05C44.38,-208.06 40.63,-198.33 37.18,-189.4\"/>\n",
       "<polygon fill=\"black\" stroke=\"black\" points=\"40.34,-187.86 33.48,-179.79 33.81,-190.38 40.34,-187.86\"/>\n",
       "</g>\n",
       "<!-- aggreg -->\n",
       "<g id=\"node4\" class=\"node\">\n",
       "<title>aggreg</title>\n",
       "<polygon fill=\"none\" stroke=\"black\" points=\"81.5,-108 26.5,-108 26.5,-72 81.5,-72 81.5,-108\"/>\n",
       "<text text-anchor=\"middle\" x=\"54\" y=\"-86.3\" font-family=\"Times,serif\" font-size=\"14.00\">aggreg</text>\n",
       "</g>\n",
       "<!-- annots&#45;&gt;aggreg -->\n",
       "<g id=\"edge3\" class=\"edge\">\n",
       "<title>annots&#45;&gt;aggreg</title>\n",
       "<path fill=\"none\" stroke=\"black\" d=\"M57.65,-215.91C59.68,-205.57 61.98,-192.09 63,-180 64.34,-164.06 64.34,-159.94 63,-144 62.28,-135.5 60.93,-126.31 59.49,-118.01\"/>\n",
       "<polygon fill=\"black\" stroke=\"black\" points=\"62.91,-117.29 57.65,-108.09 56.03,-118.56 62.91,-117.29\"/>\n",
       "</g>\n",
       "<!-- wf&#45;&gt;aggreg -->\n",
       "<g id=\"edge4\" class=\"edge\">\n",
       "<title>wf&#45;&gt;aggreg</title>\n",
       "<path fill=\"none\" stroke=\"black\" d=\"M33.4,-144.41C36.44,-136.54 40.14,-126.93 43.57,-118.04\"/>\n",
       "<polygon fill=\"black\" stroke=\"black\" points=\"46.94,-119.04 47.27,-108.45 40.41,-116.52 46.94,-119.04\"/>\n",
       "</g>\n",
       "<!-- output -->\n",
       "<g id=\"node5\" class=\"node\">\n",
       "<title>output</title>\n",
       "<ellipse fill=\"none\" stroke=\"black\" cx=\"54\" cy=\"-18\" rx=\"33.6\" ry=\"18\"/>\n",
       "<text text-anchor=\"middle\" x=\"54\" y=\"-14.3\" font-family=\"Times,serif\" font-size=\"14.00\">output</text>\n",
       "</g>\n",
       "<!-- aggreg&#45;&gt;output -->\n",
       "<g id=\"edge5\" class=\"edge\">\n",
       "<title>aggreg&#45;&gt;output</title>\n",
       "<path fill=\"none\" stroke=\"black\" d=\"M54,-71.7C54,-63.98 54,-54.71 54,-46.11\"/>\n",
       "<polygon fill=\"black\" stroke=\"black\" points=\"57.5,-46.1 54,-36.1 50.5,-46.1 57.5,-46.1\"/>\n",
       "</g>\n",
       "</g>\n",
       "</svg>\n"
      ],
      "text/plain": [
       "<graphviz.dot.Digraph at 0x123bd0670>"
      ]
     },
     "execution_count": 7,
     "metadata": {},
     "output_type": "execute_result"
    }
   ],
   "source": [
    "dgdisp(\"\"\"\n",
    "params -> annots\n",
    "annots -> wf\n",
    "annots, wf -> [aggreg] -> output\n",
    "\"\"\")"
   ]
  },
  {
   "cell_type": "code",
   "execution_count": null,
   "metadata": {},
   "outputs": [],
   "source": [
    "(bt, tt, parms)\n"
   ]
  },
  {
   "cell_type": "code",
   "execution_count": 10,
   "metadata": {
    "ExecuteTime": {
     "end_time": "2021-08-16T14:57:26.504766Z",
     "start_time": "2021-08-16T14:57:26.156339Z"
    }
   },
   "outputs": [
    {
     "data": {
      "image/svg+xml": [
       "<?xml version=\"1.0\" encoding=\"UTF-8\" standalone=\"no\"?>\n",
       "<!DOCTYPE svg PUBLIC \"-//W3C//DTD SVG 1.1//EN\"\n",
       " \"http://www.w3.org/Graphics/SVG/1.1/DTD/svg11.dtd\">\n",
       "<!-- Generated by graphviz version 2.48.0 (20210717.1556)\n",
       " -->\n",
       "<!-- Pages: 1 -->\n",
       "<svg width=\"157pt\" height=\"332pt\"\n",
       " viewBox=\"0.00 0.00 157.49 332.00\" xmlns=\"http://www.w3.org/2000/svg\" xmlns:xlink=\"http://www.w3.org/1999/xlink\">\n",
       "<g id=\"graph0\" class=\"graph\" transform=\"scale(1 1) rotate(0) translate(4 328)\">\n",
       "<polygon fill=\"white\" stroke=\"transparent\" points=\"-4,4 -4,-328 153.49,-328 153.49,4 -4,4\"/>\n",
       "<!-- params -->\n",
       "<g id=\"node1\" class=\"node\">\n",
       "<title>params</title>\n",
       "<ellipse fill=\"none\" stroke=\"black\" cx=\"74.74\" cy=\"-306\" rx=\"37.09\" ry=\"18\"/>\n",
       "<text text-anchor=\"middle\" x=\"74.74\" y=\"-302.3\" font-family=\"Times,serif\" font-size=\"14.00\">params</text>\n",
       "</g>\n",
       "<!-- bt_tt_seg_params -->\n",
       "<g id=\"node2\" class=\"node\">\n",
       "<title>bt_tt_seg_params</title>\n",
       "<ellipse fill=\"none\" stroke=\"black\" cx=\"74.74\" cy=\"-234\" rx=\"74.99\" ry=\"18\"/>\n",
       "<text text-anchor=\"middle\" x=\"74.74\" y=\"-230.3\" font-family=\"Times,serif\" font-size=\"14.00\">bt_tt_seg_params</text>\n",
       "</g>\n",
       "<!-- params&#45;&gt;bt_tt_seg_params -->\n",
       "<g id=\"edge1\" class=\"edge\">\n",
       "<title>params&#45;&gt;bt_tt_seg_params</title>\n",
       "<path fill=\"none\" stroke=\"black\" d=\"M74.74,-287.7C74.74,-279.98 74.74,-270.71 74.74,-262.11\"/>\n",
       "<polygon fill=\"black\" stroke=\"black\" points=\"78.24,-262.1 74.74,-252.1 71.24,-262.1 78.24,-262.1\"/>\n",
       "</g>\n",
       "<!-- annots -->\n",
       "<g id=\"node3\" class=\"node\">\n",
       "<title>annots</title>\n",
       "<ellipse fill=\"none\" stroke=\"black\" cx=\"35.74\" cy=\"-162\" rx=\"34.39\" ry=\"18\"/>\n",
       "<text text-anchor=\"middle\" x=\"35.74\" y=\"-158.3\" font-family=\"Times,serif\" font-size=\"14.00\">annots</text>\n",
       "</g>\n",
       "<!-- bt_tt_seg_params&#45;&gt;annots -->\n",
       "<g id=\"edge2\" class=\"edge\">\n",
       "<title>bt_tt_seg_params&#45;&gt;annots</title>\n",
       "<path fill=\"none\" stroke=\"black\" d=\"M65.3,-216.05C60.7,-207.8 55.08,-197.7 49.97,-188.54\"/>\n",
       "<polygon fill=\"black\" stroke=\"black\" points=\"53.02,-186.82 45.1,-179.79 46.91,-190.23 53.02,-186.82\"/>\n",
       "</g>\n",
       "<!-- wf -->\n",
       "<g id=\"node4\" class=\"node\">\n",
       "<title>wf</title>\n",
       "<ellipse fill=\"none\" stroke=\"black\" cx=\"114.74\" cy=\"-162\" rx=\"27\" ry=\"18\"/>\n",
       "<text text-anchor=\"middle\" x=\"114.74\" y=\"-158.3\" font-family=\"Times,serif\" font-size=\"14.00\">wf</text>\n",
       "</g>\n",
       "<!-- bt_tt_seg_params&#45;&gt;wf -->\n",
       "<g id=\"edge3\" class=\"edge\">\n",
       "<title>bt_tt_seg_params&#45;&gt;wf</title>\n",
       "<path fill=\"none\" stroke=\"black\" d=\"M84.43,-216.05C89.21,-207.68 95.08,-197.4 100.38,-188.13\"/>\n",
       "<polygon fill=\"black\" stroke=\"black\" points=\"103.5,-189.73 105.43,-179.31 97.42,-186.25 103.5,-189.73\"/>\n",
       "</g>\n",
       "<!-- aggreg -->\n",
       "<g id=\"node5\" class=\"node\">\n",
       "<title>aggreg</title>\n",
       "<polygon fill=\"none\" stroke=\"black\" points=\"102.24,-108 47.24,-108 47.24,-72 102.24,-72 102.24,-108\"/>\n",
       "<text text-anchor=\"middle\" x=\"74.74\" y=\"-86.3\" font-family=\"Times,serif\" font-size=\"14.00\">aggreg</text>\n",
       "</g>\n",
       "<!-- annots&#45;&gt;aggreg -->\n",
       "<g id=\"edge4\" class=\"edge\">\n",
       "<title>annots&#45;&gt;aggreg</title>\n",
       "<path fill=\"none\" stroke=\"black\" d=\"M44.99,-144.41C49.51,-136.28 55.07,-126.31 60.15,-117.18\"/>\n",
       "<polygon fill=\"black\" stroke=\"black\" points=\"63.21,-118.89 65.02,-108.45 57.1,-115.48 63.21,-118.89\"/>\n",
       "</g>\n",
       "<!-- wf&#45;&gt;aggreg -->\n",
       "<g id=\"edge5\" class=\"edge\">\n",
       "<title>wf&#45;&gt;aggreg</title>\n",
       "<path fill=\"none\" stroke=\"black\" d=\"M105.47,-144.76C100.76,-136.53 94.92,-126.32 89.61,-117.02\"/>\n",
       "<polygon fill=\"black\" stroke=\"black\" points=\"92.53,-115.07 84.53,-108.12 86.45,-118.54 92.53,-115.07\"/>\n",
       "</g>\n",
       "<!-- output -->\n",
       "<g id=\"node6\" class=\"node\">\n",
       "<title>output</title>\n",
       "<ellipse fill=\"none\" stroke=\"black\" cx=\"74.74\" cy=\"-18\" rx=\"33.6\" ry=\"18\"/>\n",
       "<text text-anchor=\"middle\" x=\"74.74\" y=\"-14.3\" font-family=\"Times,serif\" font-size=\"14.00\">output</text>\n",
       "</g>\n",
       "<!-- aggreg&#45;&gt;output -->\n",
       "<g id=\"edge6\" class=\"edge\">\n",
       "<title>aggreg&#45;&gt;output</title>\n",
       "<path fill=\"none\" stroke=\"black\" d=\"M74.74,-71.7C74.74,-63.98 74.74,-54.71 74.74,-46.11\"/>\n",
       "<polygon fill=\"black\" stroke=\"black\" points=\"78.24,-46.1 74.74,-36.1 71.24,-46.1 78.24,-46.1\"/>\n",
       "</g>\n",
       "</g>\n",
       "</svg>\n"
      ],
      "text/plain": [
       "<graphviz.dot.Digraph at 0x123bd0f40>"
      ]
     },
     "execution_count": 10,
     "metadata": {},
     "output_type": "execute_result"
    }
   ],
   "source": [
    "dgdisp(\"\"\"\n",
    "params -> bt_tt_seg_params\n",
    "bt_tt_seg_params -> annots, wf\n",
    "annots, wf -> [aggreg] -> output\n",
    "\"\"\")"
   ]
  },
  {
   "cell_type": "code",
   "execution_count": null,
   "metadata": {},
   "outputs": [],
   "source": [
    "wf = wf_func(bt, tt, **fixed_params)\n",
    "\n",
    "wf = mk_wf_interface(**fixed_params)\n",
    "# wf.__getitem__\n",
    "wf[bt:tt]"
   ]
  },
  {
   "cell_type": "code",
   "execution_count": null,
   "metadata": {},
   "outputs": [],
   "source": [
    "def mk_wf_func_from_array(wf_array):\n",
    "    def wf_func(bt, tt):\n",
    "        return wf_array[bt:tt]\n",
    "    return wf_func"
   ]
  },
  {
   "cell_type": "code",
   "execution_count": null,
   "metadata": {},
   "outputs": [],
   "source": [
    "annots : cat dog\n",
    "wf_func(bt, tt):\n",
    "    --> "
   ]
  },
  {
   "cell_type": "code",
   "execution_count": null,
   "metadata": {},
   "outputs": [],
   "source": []
  },
  {
   "cell_type": "code",
   "execution_count": null,
   "metadata": {},
   "outputs": [],
   "source": []
  },
  {
   "cell_type": "code",
   "execution_count": 223,
   "metadata": {
    "ExecuteTime": {
     "end_time": "2021-08-16T14:37:26.537434Z",
     "start_time": "2021-08-16T14:37:26.488718Z"
    }
   },
   "outputs": [],
   "source": [
    "# import sklearn\n",
    "#AttributeError: module 'numpy.linalg' has no attribute 'lapack_lite'"
   ]
  },
  {
   "cell_type": "markdown",
   "metadata": {},
   "source": [
    "### Categorical driven annots and wf"
   ]
  },
  {
   "cell_type": "markdown",
   "metadata": {},
   "source": [
    "Figure out how to generate/handle:\n",
    "- rest-of-the-world tags\n",
    "- wrong annotations (think FP: said cat but was a dog... or nothing)\n",
    "- missing tags (think FN: wf has a cat but I don't see it in annotation)\n",
    "\n",
    "\n",
    "Possible framework:\n",
    "- categories\n",
    "\n",
    "\n",
    "\n",
    "Theme questions:\n",
    "- what are the arguments that might be common to all (or almost all) generators? e.g. n_items"
   ]
  },
  {
   "cell_type": "code",
   "execution_count": null,
   "metadata": {},
   "outputs": [],
   "source": []
  },
  {
   "cell_type": "code",
   "execution_count": null,
   "metadata": {},
   "outputs": [],
   "source": []
  },
  {
   "cell_type": "markdown",
   "metadata": {},
   "source": [
    "## An example of generators"
   ]
  },
  {
   "cell_type": "code",
   "execution_count": 213,
   "metadata": {
    "ExecuteTime": {
     "end_time": "2021-08-16T14:13:01.879373Z",
     "start_time": "2021-08-16T14:13:01.610577Z"
    }
   },
   "outputs": [
    {
     "data": {
      "image/svg+xml": [
       "<?xml version=\"1.0\" encoding=\"UTF-8\" standalone=\"no\"?>\n",
       "<!DOCTYPE svg PUBLIC \"-//W3C//DTD SVG 1.1//EN\"\n",
       " \"http://www.w3.org/Graphics/SVG/1.1/DTD/svg11.dtd\">\n",
       "<!-- Generated by graphviz version 2.48.0 (20210717.1556)\n",
       " -->\n",
       "<!-- Pages: 1 -->\n",
       "<svg width=\"623pt\" height=\"188pt\"\n",
       " viewBox=\"0.00 0.00 622.50 188.00\" xmlns=\"http://www.w3.org/2000/svg\" xmlns:xlink=\"http://www.w3.org/1999/xlink\">\n",
       "<g id=\"graph0\" class=\"graph\" transform=\"scale(1 1) rotate(0) translate(4 184)\">\n",
       "<polygon fill=\"white\" stroke=\"transparent\" points=\"-4,4 -4,-184 618.5,-184 618.5,4 -4,4\"/>\n",
       "<!-- cycle -->\n",
       "<g id=\"node1\" class=\"node\">\n",
       "<title>cycle</title>\n",
       "<text text-anchor=\"middle\" x=\"110.5\" y=\"-14.3\" font-family=\"Times,serif\" font-size=\"14.00\">cycle</text>\n",
       "</g>\n",
       "<!-- cycle_ -->\n",
       "<g id=\"node2\" class=\"node\">\n",
       "<title>cycle_</title>\n",
       "<polygon fill=\"none\" stroke=\"black\" points=\"137.5,-108 83.5,-108 83.5,-72 137.5,-72 137.5,-108\"/>\n",
       "<text text-anchor=\"middle\" x=\"110.5\" y=\"-86.3\" font-family=\"Times,serif\" font-size=\"14.00\">cycle_</text>\n",
       "</g>\n",
       "<!-- cycle_&#45;&gt;cycle -->\n",
       "<g id=\"edge1\" class=\"edge\">\n",
       "<title>cycle_&#45;&gt;cycle</title>\n",
       "<path fill=\"none\" stroke=\"black\" d=\"M110.5,-71.7C110.5,-63.98 110.5,-54.71 110.5,-46.11\"/>\n",
       "<polygon fill=\"black\" stroke=\"black\" points=\"114,-46.1 110.5,-36.1 107,-46.1 114,-46.1\"/>\n",
       "</g>\n",
       "<!-- n_cycles -->\n",
       "<g id=\"node3\" class=\"node\">\n",
       "<title>n_cycles</title>\n",
       "<text text-anchor=\"middle\" x=\"32.5\" y=\"-158.3\" font-family=\"Times,serif\" font-size=\"14.00\">n_cycles</text>\n",
       "</g>\n",
       "<!-- n_cycles&#45;&gt;cycle_ -->\n",
       "<g id=\"edge2\" class=\"edge\">\n",
       "<title>n_cycles&#45;&gt;cycle_</title>\n",
       "<path fill=\"none\" stroke=\"black\" d=\"M51.78,-143.7C61.42,-135.05 73.23,-124.45 83.73,-115.03\"/>\n",
       "<polygon fill=\"black\" stroke=\"black\" points=\"86.34,-117.39 91.44,-108.1 81.66,-112.18 86.34,-117.39\"/>\n",
       "</g>\n",
       "<!-- count -->\n",
       "<g id=\"node4\" class=\"node\">\n",
       "<title>count</title>\n",
       "<text text-anchor=\"middle\" x=\"110.5\" y=\"-158.3\" font-family=\"Times,serif\" font-size=\"14.00\">count=</text>\n",
       "</g>\n",
       "<!-- count&#45;&gt;cycle_ -->\n",
       "<g id=\"edge3\" class=\"edge\">\n",
       "<title>count&#45;&gt;cycle_</title>\n",
       "<path fill=\"none\" stroke=\"black\" d=\"M110.5,-143.7C110.5,-135.98 110.5,-126.71 110.5,-118.11\"/>\n",
       "<polygon fill=\"black\" stroke=\"black\" points=\"114,-118.1 110.5,-108.1 107,-118.1 114,-118.1\"/>\n",
       "</g>\n",
       "<!-- values -->\n",
       "<g id=\"node5\" class=\"node\">\n",
       "<title>values</title>\n",
       "<text text-anchor=\"middle\" x=\"186.5\" y=\"-158.3\" font-family=\"Times,serif\" font-size=\"14.00\">values=</text>\n",
       "</g>\n",
       "<!-- values&#45;&gt;cycle_ -->\n",
       "<g id=\"edge4\" class=\"edge\">\n",
       "<title>values&#45;&gt;cycle_</title>\n",
       "<path fill=\"none\" stroke=\"black\" d=\"M167.71,-143.7C158.33,-135.05 146.82,-124.45 136.59,-115.03\"/>\n",
       "<polygon fill=\"black\" stroke=\"black\" points=\"138.8,-112.3 129.07,-108.1 134.05,-117.45 138.8,-112.3\"/>\n",
       "</g>\n",
       "<!-- regular_ -->\n",
       "<g id=\"node7\" class=\"node\">\n",
       "<title>regular_</title>\n",
       "<polygon fill=\"none\" stroke=\"black\" points=\"256,-108 193,-108 193,-72 256,-72 256,-108\"/>\n",
       "<text text-anchor=\"middle\" x=\"224.5\" y=\"-86.3\" font-family=\"Times,serif\" font-size=\"14.00\">regular_</text>\n",
       "</g>\n",
       "<!-- values&#45;&gt;regular_ -->\n",
       "<g id=\"edge7\" class=\"edge\">\n",
       "<title>values&#45;&gt;regular_</title>\n",
       "<path fill=\"none\" stroke=\"black\" d=\"M195.89,-143.7C200.26,-135.64 205.56,-125.89 210.4,-116.98\"/>\n",
       "<polygon fill=\"black\" stroke=\"black\" points=\"213.52,-118.56 215.21,-108.1 207.37,-115.22 213.52,-118.56\"/>\n",
       "</g>\n",
       "<!-- regular -->\n",
       "<g id=\"node6\" class=\"node\">\n",
       "<title>regular</title>\n",
       "<text text-anchor=\"middle\" x=\"224.5\" y=\"-14.3\" font-family=\"Times,serif\" font-size=\"14.00\">regular</text>\n",
       "</g>\n",
       "<!-- regular_&#45;&gt;regular -->\n",
       "<g id=\"edge5\" class=\"edge\">\n",
       "<title>regular_&#45;&gt;regular</title>\n",
       "<path fill=\"none\" stroke=\"black\" d=\"M224.5,-71.7C224.5,-63.98 224.5,-54.71 224.5,-46.11\"/>\n",
       "<polygon fill=\"black\" stroke=\"black\" points=\"228,-46.1 224.5,-36.1 221,-46.1 228,-46.1\"/>\n",
       "</g>\n",
       "<!-- n_annot -->\n",
       "<g id=\"node8\" class=\"node\">\n",
       "<title>n_annot</title>\n",
       "<text text-anchor=\"middle\" x=\"265.5\" y=\"-158.3\" font-family=\"Times,serif\" font-size=\"14.00\">n_annot</text>\n",
       "</g>\n",
       "<!-- n_annot&#45;&gt;regular_ -->\n",
       "<g id=\"edge6\" class=\"edge\">\n",
       "<title>n_annot&#45;&gt;regular_</title>\n",
       "<path fill=\"none\" stroke=\"black\" d=\"M255.37,-143.7C250.65,-135.64 244.94,-125.89 239.72,-116.98\"/>\n",
       "<polygon fill=\"black\" stroke=\"black\" points=\"242.59,-114.96 234.52,-108.1 236.55,-118.5 242.59,-114.96\"/>\n",
       "</g>\n",
       "<!-- phase_ -->\n",
       "<g id=\"node10\" class=\"node\">\n",
       "<title>phase_</title>\n",
       "<polygon fill=\"none\" stroke=\"black\" points=\"357,-108 302,-108 302,-72 357,-72 357,-108\"/>\n",
       "<text text-anchor=\"middle\" x=\"329.5\" y=\"-86.3\" font-family=\"Times,serif\" font-size=\"14.00\">phase_</text>\n",
       "</g>\n",
       "<!-- n_annot&#45;&gt;phase_ -->\n",
       "<g id=\"edge9\" class=\"edge\">\n",
       "<title>n_annot&#45;&gt;phase_</title>\n",
       "<path fill=\"none\" stroke=\"black\" d=\"M281.32,-143.7C289.07,-135.22 298.54,-124.86 307.02,-115.58\"/>\n",
       "<polygon fill=\"black\" stroke=\"black\" points=\"309.7,-117.85 313.86,-108.1 304.53,-113.12 309.7,-117.85\"/>\n",
       "</g>\n",
       "<!-- annot_timestamping_ -->\n",
       "<g id=\"node13\" class=\"node\">\n",
       "<title>annot_timestamping_</title>\n",
       "<polygon fill=\"none\" stroke=\"black\" points=\"527.5,-108 389.5,-108 389.5,-72 527.5,-72 527.5,-108\"/>\n",
       "<text text-anchor=\"middle\" x=\"458.5\" y=\"-86.3\" font-family=\"Times,serif\" font-size=\"14.00\">annot_timestamping_</text>\n",
       "</g>\n",
       "<!-- n_annot&#45;&gt;annot_timestamping_ -->\n",
       "<g id=\"edge12\" class=\"edge\">\n",
       "<title>n_annot&#45;&gt;annot_timestamping_</title>\n",
       "<path fill=\"none\" stroke=\"black\" d=\"M296.86,-147.43C299.77,-146.25 302.68,-145.08 305.5,-144 335.3,-132.52 368.78,-120.79 396.81,-111.3\"/>\n",
       "<polygon fill=\"black\" stroke=\"black\" points=\"398.12,-114.55 406.48,-108.04 395.89,-107.91 398.12,-114.55\"/>\n",
       "</g>\n",
       "<!-- phase -->\n",
       "<g id=\"node9\" class=\"node\">\n",
       "<title>phase</title>\n",
       "<text text-anchor=\"middle\" x=\"329.5\" y=\"-14.3\" font-family=\"Times,serif\" font-size=\"14.00\">phase</text>\n",
       "</g>\n",
       "<!-- phase_&#45;&gt;phase -->\n",
       "<g id=\"edge8\" class=\"edge\">\n",
       "<title>phase_&#45;&gt;phase</title>\n",
       "<path fill=\"none\" stroke=\"black\" d=\"M329.5,-71.7C329.5,-63.98 329.5,-54.71 329.5,-46.11\"/>\n",
       "<polygon fill=\"black\" stroke=\"black\" points=\"333,-46.1 329.5,-36.1 326,-46.1 333,-46.1\"/>\n",
       "</g>\n",
       "<!-- n_phases -->\n",
       "<g id=\"node11\" class=\"node\">\n",
       "<title>n_phases</title>\n",
       "<text text-anchor=\"middle\" x=\"352.5\" y=\"-158.3\" font-family=\"Times,serif\" font-size=\"14.00\">n_phases=</text>\n",
       "</g>\n",
       "<!-- n_phases&#45;&gt;phase_ -->\n",
       "<g id=\"edge10\" class=\"edge\">\n",
       "<title>n_phases&#45;&gt;phase_</title>\n",
       "<path fill=\"none\" stroke=\"black\" d=\"M346.81,-143.7C344.25,-135.9 341.17,-126.51 338.32,-117.83\"/>\n",
       "<polygon fill=\"black\" stroke=\"black\" points=\"341.57,-116.51 335.12,-108.1 334.92,-118.7 341.57,-116.51\"/>\n",
       "</g>\n",
       "<!-- annot_timestamping -->\n",
       "<g id=\"node12\" class=\"node\">\n",
       "<title>annot_timestamping</title>\n",
       "<text text-anchor=\"middle\" x=\"458.5\" y=\"-14.3\" font-family=\"Times,serif\" font-size=\"14.00\">annot_timestamping</text>\n",
       "</g>\n",
       "<!-- annot_timestamping_&#45;&gt;annot_timestamping -->\n",
       "<g id=\"edge11\" class=\"edge\">\n",
       "<title>annot_timestamping_&#45;&gt;annot_timestamping</title>\n",
       "<path fill=\"none\" stroke=\"black\" d=\"M458.5,-71.7C458.5,-63.98 458.5,-54.71 458.5,-46.11\"/>\n",
       "<polygon fill=\"black\" stroke=\"black\" points=\"462,-46.1 458.5,-36.1 455,-46.1 462,-46.1\"/>\n",
       "</g>\n",
       "<!-- start -->\n",
       "<g id=\"node14\" class=\"node\">\n",
       "<title>start</title>\n",
       "<text text-anchor=\"middle\" x=\"435.5\" y=\"-158.3\" font-family=\"Times,serif\" font-size=\"14.00\">start</text>\n",
       "</g>\n",
       "<!-- start&#45;&gt;annot_timestamping_ -->\n",
       "<g id=\"edge13\" class=\"edge\">\n",
       "<title>start&#45;&gt;annot_timestamping_</title>\n",
       "<path fill=\"none\" stroke=\"black\" d=\"M441.19,-143.7C443.75,-135.9 446.83,-126.51 449.68,-117.83\"/>\n",
       "<polygon fill=\"black\" stroke=\"black\" points=\"453.08,-118.7 452.88,-108.1 446.43,-116.51 453.08,-118.7\"/>\n",
       "</g>\n",
       "<!-- end -->\n",
       "<g id=\"node15\" class=\"node\">\n",
       "<title>end</title>\n",
       "<text text-anchor=\"middle\" x=\"507.5\" y=\"-158.3\" font-family=\"Times,serif\" font-size=\"14.00\">end</text>\n",
       "</g>\n",
       "<!-- end&#45;&gt;annot_timestamping_ -->\n",
       "<g id=\"edge14\" class=\"edge\">\n",
       "<title>end&#45;&gt;annot_timestamping_</title>\n",
       "<path fill=\"none\" stroke=\"black\" d=\"M495.39,-143.7C489.63,-135.47 482.64,-125.48 476.29,-116.42\"/>\n",
       "<polygon fill=\"black\" stroke=\"black\" points=\"479.08,-114.29 470.47,-108.1 473.34,-118.3 479.08,-114.29\"/>\n",
       "</g>\n",
       "<!-- wiggle -->\n",
       "<g id=\"node16\" class=\"node\">\n",
       "<title>wiggle</title>\n",
       "<text text-anchor=\"middle\" x=\"583.5\" y=\"-158.3\" font-family=\"Times,serif\" font-size=\"14.00\">wiggle=</text>\n",
       "</g>\n",
       "<!-- wiggle&#45;&gt;annot_timestamping_ -->\n",
       "<g id=\"edge15\" class=\"edge\">\n",
       "<title>wiggle&#45;&gt;annot_timestamping_</title>\n",
       "<path fill=\"none\" stroke=\"black\" d=\"M552.92,-143.88C536.43,-134.64 515.88,-123.13 498.16,-113.21\"/>\n",
       "<polygon fill=\"black\" stroke=\"black\" points=\"499.63,-110.02 489.2,-108.19 496.21,-116.13 499.63,-110.02\"/>\n",
       "</g>\n",
       "</g>\n",
       "</svg>\n"
      ],
      "text/plain": [
       "<graphviz.dot.Digraph at 0x12719cb50>"
      ]
     },
     "execution_count": 213,
     "metadata": {},
     "output_type": "execute_result"
    }
   ],
   "source": [
    "from lined import LineParametrized\n",
    "import qcoto.tests.synthetic_data as sd\n",
    "from meshed import DAG\n",
    "\n",
    "dag = DAG([\n",
    "    sd.annot_timestamping, \n",
    "#     sd.rpm, \n",
    "    sd.phase, \n",
    "    sd.cycle, \n",
    "    sd.regular\n",
    "])\n",
    "dag.dot_digraph()"
   ]
  },
  {
   "cell_type": "code",
   "execution_count": 214,
   "metadata": {
    "ExecuteTime": {
     "end_time": "2021-08-16T14:13:06.190308Z",
     "start_time": "2021-08-16T14:13:06.148215Z"
    }
   },
   "outputs": [
    {
     "data": {
      "text/plain": [
       "(['a', 'a', 'a', 'b', 'b', 'b'],\n",
       " [0.0,\n",
       "  166566.66666666666,\n",
       "  333251.3333333333,\n",
       "  500012.0,\n",
       "  666609.6666666666,\n",
       "  833291.3333333333,\n",
       "  1000000.0],\n",
       " ['a', 'b', 'a', 'b', 'a', 'b', 'a', 'b', 'a', 'b', 'a', 'b', 'a', 'b'],\n",
       " [0, 1, 2, 3, 4])"
      ]
     },
     "execution_count": 214,
     "metadata": {},
     "output_type": "execute_result"
    }
   ],
   "source": [
    "dag(n_cycles=7,\n",
    "    n_annot=7,\n",
    "    start=0,\n",
    "    end=int(1e6))"
   ]
  },
  {
   "cell_type": "code",
   "execution_count": null,
   "metadata": {},
   "outputs": [],
   "source": []
  },
  {
   "cell_type": "code",
   "execution_count": null,
   "metadata": {},
   "outputs": [],
   "source": []
  },
  {
   "cell_type": "code",
   "execution_count": null,
   "metadata": {},
   "outputs": [],
   "source": []
  },
  {
   "cell_type": "markdown",
   "metadata": {},
   "source": [
    "## Currying"
   ]
  },
  {
   "cell_type": "code",
   "execution_count": 59,
   "metadata": {
    "ExecuteTime": {
     "end_time": "2021-08-12T12:17:18.207493Z",
     "start_time": "2021-08-12T12:17:18.177100Z"
    }
   },
   "outputs": [],
   "source": [
    "from functools import partial, wraps\n",
    "\n",
    "class Curryer:\n",
    "    def __init__(self, func):\n",
    "        self.func = func\n",
    "        try:\n",
    "            wraps(func)(self)  # TODO: copy all attrs, or just signature, using functools.update_wrapper?\n",
    "        except:\n",
    "            pass\n",
    "\n",
    "    def __call__(self, *args, **kwargs):\n",
    "        return partial(self.func, *args, **kwargs)\n",
    "    \n",
    "import random\n",
    "randint_curryer = Curryer(random.randint)\n",
    "\n",
    "# What you do with it is this (what you do with partial, but with the function fixed)\n",
    "get_randint = randint_curryer(2, 4)\n",
    "assert get_randint() in {2, 3, 4}\n",
    "\n",
    "# But the real point of using Curryer is that the curryer has the same docs and signature as the function \n",
    "# that is being curried, so it's easier to choose the arguments you're binding\n",
    "from inspect import signature\n",
    "assert signature(randint_curryer) == signature(random.randint)\n",
    "assert randint_curryer.__doc__ == random.randint.__doc__\n",
    "\n",
    "import pandas as pd\n",
    "data_frame_curryer = Curryer(pd.DataFrame)\n",
    "\n",
    "df_maker = data_frame_curryer(columns=['earth', 'and', 'fire'])\n",
    "df_maker([(1, 2, 3), (4, 5, 6)])\n",
    "\n",
    "from inspect import signature\n",
    "assert signature(data_frame_curryer) == signature(pd.DataFrame)\n",
    "assert data_frame_curryer.__doc__ == pd.DataFrame.__doc__"
   ]
  },
  {
   "cell_type": "markdown",
   "metadata": {},
   "source": [
    "## Some dag viz"
   ]
  },
  {
   "cell_type": "code",
   "execution_count": 14,
   "metadata": {
    "ExecuteTime": {
     "end_time": "2021-08-12T10:29:09.237296Z",
     "start_time": "2021-08-12T10:29:08.939195Z"
    }
   },
   "outputs": [
    {
     "data": {
      "image/svg+xml": [
       "<?xml version=\"1.0\" encoding=\"UTF-8\" standalone=\"no\"?>\n",
       "<!DOCTYPE svg PUBLIC \"-//W3C//DTD SVG 1.1//EN\"\n",
       " \"http://www.w3.org/Graphics/SVG/1.1/DTD/svg11.dtd\">\n",
       "<!-- Generated by graphviz version 2.48.0 (20210717.1556)\n",
       " -->\n",
       "<!-- Pages: 1 -->\n",
       "<svg width=\"772pt\" height=\"44pt\"\n",
       " viewBox=\"0.00 0.00 772.00 44.00\" xmlns=\"http://www.w3.org/2000/svg\" xmlns:xlink=\"http://www.w3.org/1999/xlink\">\n",
       "<g id=\"graph0\" class=\"graph\" transform=\"scale(1 1) rotate(0) translate(4 40)\">\n",
       "<polygon fill=\"white\" stroke=\"transparent\" points=\"-4,4 -4,-40 768,-40 768,4 -4,4\"/>\n",
       "<!-- categories -->\n",
       "<g id=\"node1\" class=\"node\">\n",
       "<title>categories</title>\n",
       "<text text-anchor=\"middle\" x=\"27\" y=\"-14.3\" font-family=\"Times,serif\" font-size=\"14.00\">a, b...</text>\n",
       "</g>\n",
       "<!-- wfs_for_each_category -->\n",
       "<g id=\"node2\" class=\"node\">\n",
       "<title>wfs_for_each_category</title>\n",
       "<text text-anchor=\"middle\" x=\"161\" y=\"-14.3\" font-family=\"Times,serif\" font-size=\"14.00\">wf_for(a), wf_for(b)...</text>\n",
       "</g>\n",
       "<!-- categories&#45;&gt;wfs_for_each_category -->\n",
       "<g id=\"edge1\" class=\"edge\">\n",
       "<title>categories&#45;&gt;wfs_for_each_category</title>\n",
       "<path fill=\"none\" stroke=\"black\" d=\"M54.08,-18C61.75,-18 70.57,-18 79.78,-18\"/>\n",
       "<polygon fill=\"black\" stroke=\"black\" points=\"79.89,-21.5 89.89,-18 79.89,-14.5 79.89,-21.5\"/>\n",
       "</g>\n",
       "<!-- transformed_wf_for_each_category -->\n",
       "<g id=\"node3\" class=\"node\">\n",
       "<title>transformed_wf_for_each_category</title>\n",
       "<text text-anchor=\"middle\" x=\"382\" y=\"-14.3\" font-family=\"Times,serif\" font-size=\"14.00\">wf_a_with_noise, wf_b_with_noise...</text>\n",
       "</g>\n",
       "<!-- wfs_for_each_category&#45;&gt;transformed_wf_for_each_category -->\n",
       "<g id=\"edge2\" class=\"edge\">\n",
       "<title>wfs_for_each_category&#45;&gt;transformed_wf_for_each_category</title>\n",
       "<path fill=\"none\" stroke=\"black\" d=\"M232.2,-18C240.38,-18 248.9,-18 257.54,-18\"/>\n",
       "<polygon fill=\"black\" stroke=\"black\" points=\"257.72,-21.5 267.72,-18 257.72,-14.5 257.72,-21.5\"/>\n",
       "</g>\n",
       "<!-- concatinate -->\n",
       "<g id=\"node4\" class=\"node\">\n",
       "<title>concatinate</title>\n",
       "<text text-anchor=\"middle\" x=\"568.5\" y=\"-14.3\" font-family=\"Times,serif\" font-size=\"14.00\">waveform</text>\n",
       "</g>\n",
       "<!-- transformed_wf_for_each_category&#45;&gt;concatinate -->\n",
       "<g id=\"edge3\" class=\"edge\">\n",
       "<title>transformed_wf_for_each_category&#45;&gt;concatinate</title>\n",
       "<path fill=\"none\" stroke=\"black\" d=\"M496.17,-18C505.09,-18 513.73,-18 521.74,-18\"/>\n",
       "<polygon fill=\"black\" stroke=\"black\" points=\"521.88,-21.5 531.88,-18 521.88,-14.5 521.88,-21.5\"/>\n",
       "</g>\n",
       "<!-- chunk -->\n",
       "<g id=\"node5\" class=\"node\">\n",
       "<title>chunk</title>\n",
       "<text text-anchor=\"middle\" x=\"702.5\" y=\"-14.3\" font-family=\"Times,serif\" font-size=\"14.00\">chk1, chk2, chk3...</text>\n",
       "</g>\n",
       "<!-- concatinate&#45;&gt;chunk -->\n",
       "<g id=\"edge4\" class=\"edge\">\n",
       "<title>concatinate&#45;&gt;chunk</title>\n",
       "<path fill=\"none\" stroke=\"black\" d=\"M605.22,-18C613.21,-18 621.95,-18 630.81,-18\"/>\n",
       "<polygon fill=\"black\" stroke=\"black\" points=\"630.82,-21.5 640.82,-18 630.82,-14.5 630.82,-21.5\"/>\n",
       "</g>\n",
       "</g>\n",
       "</svg>\n"
      ],
      "text/plain": [
       "<graphviz.dot.Digraph at 0x131d4bb20>"
      ]
     },
     "execution_count": 14,
     "metadata": {},
     "output_type": "execute_result"
    }
   ],
   "source": [
    "from ut import dgdisp\n",
    "\n",
    "dgdisp(\"\"\"\n",
    "rankdir=LR\n",
    "categories -> wfs_for_each_category -> transformed_wf_for_each_category -> concatinate -> chunk\n",
    "categories [label=\"a, b...\" shape=none]\n",
    "wfs_for_each_category [label=\"wf_for(a), wf_for(b)...\" shape=none]\n",
    "transformed_wf_for_each_category [label=\"wf_a_with_noise, wf_b_with_noise...\" shape=none]\n",
    "concatinate [label=\"waveform\" shape=none]\n",
    "chunk [label=\"chk1, chk2, chk3...\" shape=none]\n",
    "\"\"\")"
   ]
  },
  {
   "cell_type": "code",
   "execution_count": null,
   "metadata": {},
   "outputs": [],
   "source": []
  },
  {
   "cell_type": "code",
   "execution_count": null,
   "metadata": {},
   "outputs": [],
   "source": []
  },
  {
   "cell_type": "code",
   "execution_count": null,
   "metadata": {},
   "outputs": [],
   "source": []
  },
  {
   "cell_type": "code",
   "execution_count": null,
   "metadata": {},
   "outputs": [],
   "source": []
  },
  {
   "cell_type": "code",
   "execution_count": null,
   "metadata": {},
   "outputs": [],
   "source": []
  },
  {
   "cell_type": "code",
   "execution_count": null,
   "metadata": {},
   "outputs": [],
   "source": []
  },
  {
   "cell_type": "code",
   "execution_count": null,
   "metadata": {},
   "outputs": [],
   "source": []
  },
  {
   "cell_type": "code",
   "execution_count": null,
   "metadata": {},
   "outputs": [],
   "source": []
  },
  {
   "cell_type": "code",
   "execution_count": null,
   "metadata": {},
   "outputs": [],
   "source": []
  }
 ],
 "metadata": {
  "kernelspec": {
   "display_name": "Python 3",
   "language": "python",
   "name": "python3"
  },
  "latex_envs": {
   "LaTeX_envs_menu_present": true,
   "autoclose": false,
   "autocomplete": true,
   "bibliofile": "biblio.bib",
   "cite_by": "apalike",
   "current_citInitial": 1,
   "eqLabelWithNumbers": true,
   "eqNumInitial": 1,
   "hotkeys": {
    "equation": "Ctrl-E",
    "itemize": "Ctrl-I"
   },
   "labels_anchors": false,
   "latex_user_defs": false,
   "report_style_numbering": false,
   "user_envs_cfg": false
  },
  "toc": {
   "base_numbering": 1,
   "nav_menu": {},
   "number_sections": true,
   "sideBar": false,
   "skip_h1_title": false,
   "title_cell": "Table of Contents",
   "title_sidebar": "Contents",
   "toc_cell": true,
   "toc_position": {
    "height": "100px",
    "left": "30.9757px",
    "top": "141.035px",
    "width": "1045.54px"
   },
   "toc_section_display": true,
   "toc_window_display": true
  }
 },
 "nbformat": 4,
 "nbformat_minor": 4
}
