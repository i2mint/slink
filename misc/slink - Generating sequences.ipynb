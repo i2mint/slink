{
 "cells": [
  {
   "cell_type": "markdown",
   "metadata": {
    "toc": true
   },
   "source": [
    "<h1>Table of Contents<span class=\"tocSkip\"></span></h1>\n",
    "<div class=\"toc\"><ul class=\"toc-item\"><li><span><a href=\"#Design-notes\" data-toc-modified-id=\"Design-notes-1\"><span class=\"toc-item-num\">1&nbsp;&nbsp;</span>Design notes</a></span><ul class=\"toc-item\"><li><span><a href=\"#Objective\" data-toc-modified-id=\"Objective-1.1\"><span class=\"toc-item-num\">1.1&nbsp;&nbsp;</span>Objective</a></span></li><li><span><a href=\"#Design\" data-toc-modified-id=\"Design-1.2\"><span class=\"toc-item-num\">1.2&nbsp;&nbsp;</span>Design</a></span></li><li><span><a href=\"#Examples-of-sequence-functions\" data-toc-modified-id=\"Examples-of-sequence-functions-1.3\"><span class=\"toc-item-num\">1.3&nbsp;&nbsp;</span>Examples of sequence functions</a></span></li></ul></li><li><span><a href=\"#Seed-functions\" data-toc-modified-id=\"Seed-functions-2\"><span class=\"toc-item-num\">2&nbsp;&nbsp;</span>Seed functions</a></span></li><li><span><a href=\"#Scrap\" data-toc-modified-id=\"Scrap-3\"><span class=\"toc-item-num\">3&nbsp;&nbsp;</span>Scrap</a></span></li></ul></div>"
   ]
  },
  {
   "cell_type": "code",
   "execution_count": null,
   "metadata": {},
   "outputs": [],
   "source": [
    "\n",
    "# frequently used builtins\n",
    "import os\n",
    "from collections import Counter, defaultdict\n",
    "\n",
    "# frequently used data pkgs\n",
    "import numpy as np\n",
    "import pandas as pd\n",
    "\t\t\t\n",
    "# careful import of matplotlib\n",
    "try:\n",
    "\timport matplotlib.pyplot as plt\n",
    "except ModuleNotFoundError as e:  # to catch ModuleNotFoundError: No module named '_tkinter'\n",
    "\timport matplotlib\n",
    "\tmatplotlib.use('agg')\n",
    "\timport matplotlib.pyplot as plt\n",
    "\n",
    "# some magic stuff\n",
    "%reload_ext autoreload\n",
    "%autoreload 2\n",
    "\n",
    "%matplotlib inline\n",
    "%config InlineBackend.figure_format='retina'\n",
    "\n",
    "\n"
   ]
  },
  {
   "cell_type": "code",
   "execution_count": null,
   "metadata": {},
   "outputs": [],
   "source": []
  },
  {
   "cell_type": "markdown",
   "metadata": {
    "ExecuteTime": {
     "end_time": "2021-08-12T10:17:01.503120Z",
     "start_time": "2021-08-12T10:17:01.455551Z"
    }
   },
   "source": [
    "# Design notes\n",
    "\n",
    "## Objective\n",
    "\n",
    "This package offers tools for generating sequences. Finite ones like lists and arrays, or infinite ones like streams. \n",
    "\n",
    "The items of the sequences can be anything and often one sequence produced will be used to produce another (see further design notes). \n",
    "The target (i.e. final) sequence items would be samples of a signal (like sound, image, or other data from some sensor source) or typical time-series. \n",
    "\n",
    "For starters, our main focus will be generating sound -- that is, servicing the [hum](https://github.com/otosense/hum) package. \n",
    "\n",
    "Our main tools will be taken from [creek](https://github.com/i2mint/creek) and possibly [lined]()\n",
    "\n",
    "\n",
    "## Design\n",
    "\n",
    "Our running examples will be taken from audio production. \n",
    "We'll use `wf` to denote a waveform object (usually a list or array of numbers -- a.k.a. samples or frames). \n",
    "\n",
    "To get a waveform, you specify some `params` (including, say, the kind, \n",
    "or the actual function that the params should be called with to produce the result), \n",
    "and you get a waveform `wf`.\n",
    "\n",
    "![image](https://user-images.githubusercontent.com/1906276/129167933-b1cdba31-0e8c-46b9-b789-c89732d06ce3.png)\n",
    "\n",
    "This `wf` could be a fixed-size object like an array, or could be a source of unbounded amounts of data, \n",
    "like a generator, a stream object, a or a `creek.InfiniteSeq` which gives you the array-like ability to slice (i.e. `wf[i:j]`). \n",
    "\n",
    "The purpose of `slink` is to provide tools to get from params to this `wf`, or what ever the target sequence maybe. \n",
    "The main means of doing so is through a chain of sequences each one being a function of the previous. \n",
    "This function could do things like...\n",
    "\n",
    "\n",
    "<img src=\"https://user-images.githubusercontent.com/1906276/129180811-c6f94159-8a9b-4f42-9f99-34607ade643d.png\" alt=\"drawing\" style=\"width:1200px\"/>\n",
    "\n",
    "<img src=\"https://user-images.githubusercontent.com/1906276/129182049-c6717da0-3251-4f1a-bf75-163c92db42da.png\" alt=\"drawing\" style=\"width:1200px\"/>\n",
    "\n",
    "\n",
    "```python\n",
    "a, b, c... -> wf_for(a), wf_for(b), wf_for(c), ...  # generate elements of the next sequence based on the items of the last\n",
    "wf_a, wf_b, wf_c... -> add_noise(wf_a), add_noise(wf_b), add_noise(wf_c), ... # transform the items of the last sequence\n",
    "-> concatinate(wf_a_with_noise, ...)  # aggregate these items\n",
    "-> chunk -> wf_chk_1, wf_chk_2, ...  # split these items\n",
    "```\n",
    "\n",
    "All but the last sequence functions above were all \n",
    "- `map` (applying the same function to each element of the input sequence) \n",
    "- `reduce` (aggregating all sequence items into one object -- though that object may be a sequence itself)\n",
    "\n",
    "But some functions can have more complex mechanisms such as inner-state and buffers. \n",
    "This is important to note, since the developer may be tempted to accommodate for sequence functions that operate on a window instead of a single item. \n",
    "But accommodating for this directly would complexify the interface.\n",
    "Instead, we propose to use a mechanism like `lined.BufferStats` to offer a window-input functionality with a single-item-at-a-time interface.\n",
    "\n",
    "## Examples of sequence functions\n",
    "\n",
    "For categoricals: Use the `__getitem__` of a mapping that relates each element of a finite set of seeds to a waveform, \n",
    "or parameters that will be used to produce the waveform:\n",
    "\n",
    "```python\n",
    "cat_map = {'a': [1,2,3], 'b': [4,5,6]}\n",
    "item_func_1 = cat_map.__getitem__\n",
    "# to make the sequence function from this item func, you can do:\n",
    "from lined import iterize\n",
    "seq_func_1 = iterize(item_func_1)\n",
    "```\n",
    "\n",
    "Could also use finite mappings like above for numericals by first using a function that will map to a categorical\n",
    "\n",
    "```python\n",
    "num_to_cat = lambda num: list(cat_map)[num % len(cat_map)]\n",
    "from lined import iterize, Line\n",
    "seq_func_2 = iterize(Line(num_to_cat, item_func_1))\n",
    "```\n",
    "\n",
    "`Line` composes `num_to_cat` and `item_func_1` and `iterize` makes the item-to-item function into a sequence-to-sequence function.\n",
    "\n"
   ]
  },
  {
   "cell_type": "code",
   "execution_count": null,
   "metadata": {},
   "outputs": [],
   "source": []
  },
  {
   "cell_type": "markdown",
   "metadata": {},
   "source": [
    "# Seed functions"
   ]
  },
  {
   "cell_type": "markdown",
   "metadata": {},
   "source": [
    "Seed functions are the functions that produce the first sequence of the pipeline of sequence transformations. \n",
    "\n",
    "They're not the outer most layer: The outer-most layer contains the whole pipeline, and has as arguments any parameters that the steps of the pipeline might need. \n",
    "\n",
    "A seed functions is called repeatedly to produce either an item at a time (`n=1`), a chunk (`n>1`), or an iterable (`n=0`) that may or may not be a finite one. "
   ]
  },
  {
   "cell_type": "code",
   "execution_count": 56,
   "metadata": {
    "ExecuteTime": {
     "end_time": "2021-08-12T11:05:27.812540Z",
     "start_time": "2021-08-12T11:05:27.757607Z"
    }
   },
   "outputs": [],
   "source": [
    "from dataclasses import dataclass\n",
    "from typing import Iterable, Callable\n",
    "import itertools\n",
    "\n",
    "@dataclass\n",
    "class RandomCategoricalGenerator:\n",
    "    categories: Iterable = (True, False)\n",
    "    chunk_container: Callable = list\n",
    "    # TODO: Allow possibility of weighted categories (p argument of np.random.choice) \n",
    "    # TODO: Being able to specify random seed\n",
    "    \n",
    "    def __post_init__(self):\n",
    "        self.categories = np.array(list(self.categories))  # make any iterable into a (sliceable) array\n",
    "        self.n_categories = len(self.categories)\n",
    "        \n",
    "    def __call__(self, n=1):\n",
    "        \"\"\"returns a single category by default, or a n-tuple if n > 1\"\"\"\n",
    "        if n is not None:\n",
    "            arr = np.random.choice(self.categories, n)\n",
    "            if n == 1:\n",
    "                return arr[0]\n",
    "            else:\n",
    "                return self.chunk_container(arr)\n",
    "        else:\n",
    "            generate_integers_forever = itertools.count()\n",
    "            get_random_categories_index = partial(randint, 0, self.n_categories - 1)\n",
    "            generate_categories_indices_forever = (get_random_categories_index() for _ in generate_integers_forever)\n",
    "            return (self.categories[i] for i in generate_categories_indices_forever)\n",
    "\n",
    "\n",
    "class RandomNumericalGenerator:\n",
    "    \"\"\"Generate numbers in a controlled random way\"\"\"\n",
    "    \n",
    "class RandomTupleGenerator:\n",
    "    \"\"\"Generate fixed-schema tuples (of numericals or tuples)\n",
    "    Can be used to generate other fixed-schema objects (dict, custom classes, etc.)\n",
    "    \"\"\"\n",
    "    \n",
    "    "
   ]
  },
  {
   "cell_type": "code",
   "execution_count": 71,
   "metadata": {
    "ExecuteTime": {
     "end_time": "2021-08-12T11:23:24.955501Z",
     "start_time": "2021-08-12T11:23:24.901493Z"
    }
   },
   "outputs": [
    {
     "data": {
      "text/plain": [
       "[False, False, True, True]"
      ]
     },
     "execution_count": 71,
     "metadata": {},
     "output_type": "execute_result"
    }
   ],
   "source": [
    "r = RandomCategoryGenerator()\n",
    "it = r(None)\n",
    "assert r() in r.categories # True or False\n",
    "assert r(n=1) in r.categories # same as r()\n",
    "result = r(n=3)\n",
    "assert isinstance(result, list)  # e.g. [False, True, False]\n",
    "r = RandomCategoryGenerator(chunk_container=tuple)\n",
    "result = r(n=3)\n",
    "assert isinstance(result, tuple)  # e.g. (False, True, False)\n",
    "list(itertools.islice(it, 0, 4)) # e.g. [False, False, False, True]"
   ]
  },
  {
   "cell_type": "code",
   "execution_count": 60,
   "metadata": {
    "ExecuteTime": {
     "end_time": "2021-08-12T11:05:31.774941Z",
     "start_time": "2021-08-12T11:05:31.728645Z"
    }
   },
   "outputs": [
    {
     "data": {
      "text/plain": [
       "0"
      ]
     },
     "execution_count": 60,
     "metadata": {},
     "output_type": "execute_result"
    }
   ],
   "source": [
    "from functools import partial\n",
    "from random import randint\n",
    "\n",
    "f = partial(randint, 0, 1)\n",
    "f()"
   ]
  },
  {
   "cell_type": "code",
   "execution_count": 38,
   "metadata": {
    "ExecuteTime": {
     "end_time": "2021-08-12T11:01:15.978410Z",
     "start_time": "2021-08-12T11:01:15.930812Z"
    }
   },
   "outputs": [
    {
     "data": {
      "text/plain": [
       "0"
      ]
     },
     "execution_count": 38,
     "metadata": {},
     "output_type": "execute_result"
    }
   ],
   "source": [
    "f()"
   ]
  },
  {
   "cell_type": "code",
   "execution_count": 18,
   "metadata": {
    "ExecuteTime": {
     "end_time": "2021-08-12T10:57:46.837767Z",
     "start_time": "2021-08-12T10:57:46.785264Z"
    }
   },
   "outputs": [
    {
     "data": {
      "text/plain": [
       "2"
      ]
     },
     "execution_count": 18,
     "metadata": {},
     "output_type": "execute_result"
    }
   ],
   "source": [
    "from random import randint\n",
    "\n",
    "randint(0, 2)"
   ]
  },
  {
   "cell_type": "code",
   "execution_count": null,
   "metadata": {},
   "outputs": [],
   "source": []
  },
  {
   "cell_type": "code",
   "execution_count": 17,
   "metadata": {
    "ExecuteTime": {
     "end_time": "2021-08-12T10:44:19.869686Z",
     "start_time": "2021-08-12T10:44:19.474263Z"
    }
   },
   "outputs": [
    {
     "ename": "IndexError",
     "evalue": "index 1 is out of bounds for axis 0 with size 1",
     "output_type": "error",
     "traceback": [
      "\u001b[0;31m---------------------------------------------------------------------------\u001b[0m",
      "\u001b[0;31mIndexError\u001b[0m                                Traceback (most recent call last)",
      "\u001b[0;32m<ipython-input-17-467acec81deb>\u001b[0m in \u001b[0;36m<module>\u001b[0;34m\u001b[0m\n\u001b[0;32m----> 1\u001b[0;31m \u001b[0mnp\u001b[0m\u001b[0;34m.\u001b[0m\u001b[0mrandom\u001b[0m\u001b[0;34m.\u001b[0m\u001b[0mchoice\u001b[0m\u001b[0;34m(\u001b[0m\u001b[0;34m[\u001b[0m\u001b[0;32mTrue\u001b[0m\u001b[0;34m,\u001b[0m \u001b[0;32mFalse\u001b[0m\u001b[0;34m]\u001b[0m\u001b[0;34m,\u001b[0m \u001b[0;36m1\u001b[0m\u001b[0;34m)\u001b[0m\u001b[0;34m[\u001b[0m\u001b[0;36m1\u001b[0m\u001b[0;34m]\u001b[0m\u001b[0;34m\u001b[0m\u001b[0;34m\u001b[0m\u001b[0m\n\u001b[0m",
      "\u001b[0;31mIndexError\u001b[0m: index 1 is out of bounds for axis 0 with size 1"
     ]
    }
   ],
   "source": [
    "np.random.choice([True, False], 1)"
   ]
  },
  {
   "cell_type": "code",
   "execution_count": null,
   "metadata": {},
   "outputs": [],
   "source": []
  },
  {
   "cell_type": "code",
   "execution_count": null,
   "metadata": {},
   "outputs": [],
   "source": []
  },
  {
   "cell_type": "code",
   "execution_count": null,
   "metadata": {},
   "outputs": [],
   "source": []
  },
  {
   "cell_type": "code",
   "execution_count": null,
   "metadata": {},
   "outputs": [],
   "source": []
  },
  {
   "cell_type": "code",
   "execution_count": null,
   "metadata": {},
   "outputs": [],
   "source": []
  },
  {
   "cell_type": "code",
   "execution_count": null,
   "metadata": {},
   "outputs": [],
   "source": []
  },
  {
   "cell_type": "code",
   "execution_count": null,
   "metadata": {},
   "outputs": [],
   "source": []
  },
  {
   "cell_type": "markdown",
   "metadata": {},
   "source": [
    "# Scrap"
   ]
  },
  {
   "cell_type": "code",
   "execution_count": 14,
   "metadata": {
    "ExecuteTime": {
     "end_time": "2021-08-12T10:29:09.237296Z",
     "start_time": "2021-08-12T10:29:08.939195Z"
    }
   },
   "outputs": [
    {
     "data": {
      "image/svg+xml": [
       "<?xml version=\"1.0\" encoding=\"UTF-8\" standalone=\"no\"?>\n",
       "<!DOCTYPE svg PUBLIC \"-//W3C//DTD SVG 1.1//EN\"\n",
       " \"http://www.w3.org/Graphics/SVG/1.1/DTD/svg11.dtd\">\n",
       "<!-- Generated by graphviz version 2.48.0 (20210717.1556)\n",
       " -->\n",
       "<!-- Pages: 1 -->\n",
       "<svg width=\"772pt\" height=\"44pt\"\n",
       " viewBox=\"0.00 0.00 772.00 44.00\" xmlns=\"http://www.w3.org/2000/svg\" xmlns:xlink=\"http://www.w3.org/1999/xlink\">\n",
       "<g id=\"graph0\" class=\"graph\" transform=\"scale(1 1) rotate(0) translate(4 40)\">\n",
       "<polygon fill=\"white\" stroke=\"transparent\" points=\"-4,4 -4,-40 768,-40 768,4 -4,4\"/>\n",
       "<!-- categories -->\n",
       "<g id=\"node1\" class=\"node\">\n",
       "<title>categories</title>\n",
       "<text text-anchor=\"middle\" x=\"27\" y=\"-14.3\" font-family=\"Times,serif\" font-size=\"14.00\">a, b...</text>\n",
       "</g>\n",
       "<!-- wfs_for_each_category -->\n",
       "<g id=\"node2\" class=\"node\">\n",
       "<title>wfs_for_each_category</title>\n",
       "<text text-anchor=\"middle\" x=\"161\" y=\"-14.3\" font-family=\"Times,serif\" font-size=\"14.00\">wf_for(a), wf_for(b)...</text>\n",
       "</g>\n",
       "<!-- categories&#45;&gt;wfs_for_each_category -->\n",
       "<g id=\"edge1\" class=\"edge\">\n",
       "<title>categories&#45;&gt;wfs_for_each_category</title>\n",
       "<path fill=\"none\" stroke=\"black\" d=\"M54.08,-18C61.75,-18 70.57,-18 79.78,-18\"/>\n",
       "<polygon fill=\"black\" stroke=\"black\" points=\"79.89,-21.5 89.89,-18 79.89,-14.5 79.89,-21.5\"/>\n",
       "</g>\n",
       "<!-- transformed_wf_for_each_category -->\n",
       "<g id=\"node3\" class=\"node\">\n",
       "<title>transformed_wf_for_each_category</title>\n",
       "<text text-anchor=\"middle\" x=\"382\" y=\"-14.3\" font-family=\"Times,serif\" font-size=\"14.00\">wf_a_with_noise, wf_b_with_noise...</text>\n",
       "</g>\n",
       "<!-- wfs_for_each_category&#45;&gt;transformed_wf_for_each_category -->\n",
       "<g id=\"edge2\" class=\"edge\">\n",
       "<title>wfs_for_each_category&#45;&gt;transformed_wf_for_each_category</title>\n",
       "<path fill=\"none\" stroke=\"black\" d=\"M232.2,-18C240.38,-18 248.9,-18 257.54,-18\"/>\n",
       "<polygon fill=\"black\" stroke=\"black\" points=\"257.72,-21.5 267.72,-18 257.72,-14.5 257.72,-21.5\"/>\n",
       "</g>\n",
       "<!-- concatinate -->\n",
       "<g id=\"node4\" class=\"node\">\n",
       "<title>concatinate</title>\n",
       "<text text-anchor=\"middle\" x=\"568.5\" y=\"-14.3\" font-family=\"Times,serif\" font-size=\"14.00\">waveform</text>\n",
       "</g>\n",
       "<!-- transformed_wf_for_each_category&#45;&gt;concatinate -->\n",
       "<g id=\"edge3\" class=\"edge\">\n",
       "<title>transformed_wf_for_each_category&#45;&gt;concatinate</title>\n",
       "<path fill=\"none\" stroke=\"black\" d=\"M496.17,-18C505.09,-18 513.73,-18 521.74,-18\"/>\n",
       "<polygon fill=\"black\" stroke=\"black\" points=\"521.88,-21.5 531.88,-18 521.88,-14.5 521.88,-21.5\"/>\n",
       "</g>\n",
       "<!-- chunk -->\n",
       "<g id=\"node5\" class=\"node\">\n",
       "<title>chunk</title>\n",
       "<text text-anchor=\"middle\" x=\"702.5\" y=\"-14.3\" font-family=\"Times,serif\" font-size=\"14.00\">chk1, chk2, chk3...</text>\n",
       "</g>\n",
       "<!-- concatinate&#45;&gt;chunk -->\n",
       "<g id=\"edge4\" class=\"edge\">\n",
       "<title>concatinate&#45;&gt;chunk</title>\n",
       "<path fill=\"none\" stroke=\"black\" d=\"M605.22,-18C613.21,-18 621.95,-18 630.81,-18\"/>\n",
       "<polygon fill=\"black\" stroke=\"black\" points=\"630.82,-21.5 640.82,-18 630.82,-14.5 630.82,-21.5\"/>\n",
       "</g>\n",
       "</g>\n",
       "</svg>\n"
      ],
      "text/plain": [
       "<graphviz.dot.Digraph at 0x131d4bb20>"
      ]
     },
     "execution_count": 14,
     "metadata": {},
     "output_type": "execute_result"
    }
   ],
   "source": [
    "from ut import dgdisp\n",
    "\n",
    "dgdisp(\"\"\"\n",
    "rankdir=LR\n",
    "categories -> wfs_for_each_category -> transformed_wf_for_each_category -> concatinate -> chunk\n",
    "categories [label=\"a, b...\" shape=none]\n",
    "wfs_for_each_category [label=\"wf_for(a), wf_for(b)...\" shape=none]\n",
    "transformed_wf_for_each_category [label=\"wf_a_with_noise, wf_b_with_noise...\" shape=none]\n",
    "concatinate [label=\"waveform\" shape=none]\n",
    "chunk [label=\"chk1, chk2, chk3...\" shape=none]\n",
    "\"\"\")"
   ]
  },
  {
   "cell_type": "code",
   "execution_count": null,
   "metadata": {},
   "outputs": [],
   "source": []
  },
  {
   "cell_type": "code",
   "execution_count": null,
   "metadata": {},
   "outputs": [],
   "source": []
  },
  {
   "cell_type": "code",
   "execution_count": null,
   "metadata": {},
   "outputs": [],
   "source": []
  },
  {
   "cell_type": "code",
   "execution_count": null,
   "metadata": {},
   "outputs": [],
   "source": []
  },
  {
   "cell_type": "code",
   "execution_count": null,
   "metadata": {},
   "outputs": [],
   "source": []
  },
  {
   "cell_type": "code",
   "execution_count": null,
   "metadata": {},
   "outputs": [],
   "source": []
  },
  {
   "cell_type": "code",
   "execution_count": null,
   "metadata": {},
   "outputs": [],
   "source": []
  },
  {
   "cell_type": "code",
   "execution_count": null,
   "metadata": {},
   "outputs": [],
   "source": []
  },
  {
   "cell_type": "code",
   "execution_count": null,
   "metadata": {},
   "outputs": [],
   "source": []
  }
 ],
 "metadata": {
  "kernelspec": {
   "display_name": "Python 3",
   "language": "python",
   "name": "python3"
  },
  "language_info": {
   "codemirror_mode": {
    "name": "ipython",
    "version": 3
   },
   "file_extension": ".py",
   "mimetype": "text/x-python",
   "name": "python",
   "nbconvert_exporter": "python",
   "pygments_lexer": "ipython3",
   "version": "3.8.6"
  },
  "latex_envs": {
   "LaTeX_envs_menu_present": true,
   "autoclose": false,
   "autocomplete": true,
   "bibliofile": "biblio.bib",
   "cite_by": "apalike",
   "current_citInitial": 1,
   "eqLabelWithNumbers": true,
   "eqNumInitial": 1,
   "hotkeys": {
    "equation": "Ctrl-E",
    "itemize": "Ctrl-I"
   },
   "labels_anchors": false,
   "latex_user_defs": false,
   "report_style_numbering": false,
   "user_envs_cfg": false
  },
  "toc": {
   "base_numbering": 1,
   "nav_menu": {},
   "number_sections": true,
   "sideBar": false,
   "skip_h1_title": false,
   "title_cell": "Table of Contents",
   "title_sidebar": "Contents",
   "toc_cell": true,
   "toc_position": {
    "height": "124.201px",
    "left": "33.9896px",
    "top": "145.035px",
    "width": "1061.77px"
   },
   "toc_section_display": true,
   "toc_window_display": true
  }
 },
 "nbformat": 4,
 "nbformat_minor": 4
}
